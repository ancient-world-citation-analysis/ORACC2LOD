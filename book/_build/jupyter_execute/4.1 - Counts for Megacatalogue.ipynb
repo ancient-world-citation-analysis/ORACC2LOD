{
 "cells": [
  {
   "cell_type": "markdown",
   "metadata": {
    "id": "EK4oRNM7a2_f"
   },
   "source": [
    "# Counts for Megacatalogue\n",
    "\n",
    "This notebook contains the counting and assessment of the megacatalogue\n",
    "\n",
    "The \"Getting the Counts\" portion will eventually be placed in the Megacatalogue notebook but for easier access can be found here.\n",
    "\n",
    "The \"CDLI Comparison\" portion will be part of a new notebook called \"CDLI and ORACC Synthesis\" and/or replace the Metacatalogue notebook."
   ]
  },
  {
   "cell_type": "markdown",
   "metadata": {
    "id": "8o9WOYlYRbH5"
   },
   "source": [
    "# Mount Google Drive folder + imports + steps"
   ]
  },
  {
   "cell_type": "code",
   "execution_count": 1,
   "metadata": {
    "colab": {
     "base_uri": "https://localhost:8080/"
    },
    "executionInfo": {
     "elapsed": 17964,
     "status": "ok",
     "timestamp": 1693258773416,
     "user": {
      "displayName": "Melinee Her",
      "userId": "06864672402504422512"
     },
     "user_tz": 420
    },
    "id": "oi1BummVRaZy",
    "outputId": "a8efb866-c5eb-49b5-e5f2-55c47a5bc8f4"
   },
   "outputs": [
    {
     "name": "stdout",
     "output_type": "stream",
     "text": [
      "Mounted at /content/drive\n"
     ]
    }
   ],
   "source": [
    "from google.colab import drive\n",
    "drive.mount('/content/drive')"
   ]
  },
  {
   "cell_type": "code",
   "execution_count": 2,
   "metadata": {
    "executionInfo": {
     "elapsed": 10907,
     "status": "ok",
     "timestamp": 1693258784319,
     "user": {
      "displayName": "Melinee Her",
      "userId": "06864672402504422512"
     },
     "user_tz": 420
    },
    "id": "oCIRD6koRoGc"
   },
   "outputs": [],
   "source": [
    "#any necessary imports\n",
    "import pandas as pd\n",
    "import zipfile\n",
    "from zipfile import ZipFile\n",
    "import json\n",
    "import requests\n",
    "from tqdm import tqdm\n",
    "import os\n",
    "import errno\n",
    "import re\n",
    "import random\n",
    "import numpy as np\n",
    "import sys\n",
    "import copy\n",
    "import networkx as nx\n",
    "from pathlib import Path\n",
    "\n",
    "#Set folder for remote drive\n",
    "#folder = '/content/drive/My Drive/FactGrid Cuneiform (AWCA)/people/Melinee'\n",
    "folder = '/content/drive/MyDrive/Melinee/'\n",
    "\n",
    "#importing utils for the method which downloads the current text json files\n",
    "os.chdir(folder + 'network/utils/')\n",
    "from utils import oracc_download\n",
    "\n",
    "# This is a user defined module that searches through the texts to find the entities in the text that\n",
    "# are people and places, to be imported as nodes into the network\n",
    "os.chdir(folder + 'network/')\n",
    "import rank_parser4 as rp"
   ]
  },
  {
   "cell_type": "markdown",
   "metadata": {
    "id": "DFOR-qypmz9Q"
   },
   "source": [
    "# Getting the Counts"
   ]
  },
  {
   "cell_type": "markdown",
   "metadata": {
    "id": "daAVmk_1baSZ"
   },
   "source": [
    "Import the megacatalogue csv and preview"
   ]
  },
  {
   "cell_type": "code",
   "execution_count": 4,
   "metadata": {
    "executionInfo": {
     "elapsed": 20800,
     "status": "ok",
     "timestamp": 1693259108818,
     "user": {
      "displayName": "Melinee Her",
      "userId": "06864672402504422512"
     },
     "user_tz": 420
    },
    "id": "SHymPZagbMK6"
   },
   "outputs": [],
   "source": [
    "path = '/content/drive/MyDrive/Melinee/ORACC_DFS/megacatalogue.csv'\n",
    "megacatalogue = pd.read_csv(path, low_memory=False, index_col=False)"
   ]
  },
  {
   "cell_type": "code",
   "execution_count": 5,
   "metadata": {
    "colab": {
     "base_uri": "https://localhost:8080/",
     "height": 401
    },
    "executionInfo": {
     "elapsed": 786,
     "status": "ok",
     "timestamp": 1693259112447,
     "user": {
      "displayName": "Melinee Her",
      "userId": "06864672402504422512"
     },
     "user_tz": 420
    },
    "id": "0qv_pY1AbZyG",
    "outputId": "c4b2b8b9-2786-4698-8c05-8d1c2503f6a7"
   },
   "outputs": [
    {
     "data": {
      "text/html": [
       "\n",
       "  <div id=\"df-87805233-9f9c-4a70-8963-a60111c44692\" class=\"colab-df-container\">\n",
       "    <div>\n",
       "<style scoped>\n",
       "    .dataframe tbody tr th:only-of-type {\n",
       "        vertical-align: middle;\n",
       "    }\n",
       "\n",
       "    .dataframe tbody tr th {\n",
       "        vertical-align: top;\n",
       "    }\n",
       "\n",
       "    .dataframe thead th {\n",
       "        text-align: right;\n",
       "    }\n",
       "</style>\n",
       "<table border=\"1\" class=\"dataframe\">\n",
       "  <thead>\n",
       "    <tr style=\"text-align: right;\">\n",
       "      <th></th>\n",
       "      <th>id_text</th>\n",
       "      <th>langs</th>\n",
       "      <th>project</th>\n",
       "      <th>id_text.1</th>\n",
       "      <th>primary_publication</th>\n",
       "      <th>provenience</th>\n",
       "      <th>pleiades_id</th>\n",
       "      <th>pleiades_coord</th>\n",
       "      <th>excavation_no</th>\n",
       "      <th>archive</th>\n",
       "      <th>...</th>\n",
       "      <th>Q_places</th>\n",
       "      <th>parallels</th>\n",
       "      <th>new_q</th>\n",
       "      <th>subseries</th>\n",
       "      <th>subseries_section</th>\n",
       "      <th>description</th>\n",
       "      <th>oracc_id</th>\n",
       "      <th>sec1</th>\n",
       "      <th>chap</th>\n",
       "      <th>sec2</th>\n",
       "    </tr>\n",
       "  </thead>\n",
       "  <tbody>\n",
       "    <tr>\n",
       "      <th>0</th>\n",
       "      <td>P522592</td>\n",
       "      <td>0x08000000</td>\n",
       "      <td>tilbarsip</td>\n",
       "      <td>P522592</td>\n",
       "      <td>Til-Barsip 01</td>\n",
       "      <td>Tell Ahmar (Til Barsip)</td>\n",
       "      <td>658410.0</td>\n",
       "      <td>[38.1191944, 36.6749623]</td>\n",
       "      <td>T 01</td>\n",
       "      <td>001 -  Hanni Archive (House C1)</td>\n",
       "      <td>...</td>\n",
       "      <td>NaN</td>\n",
       "      <td>NaN</td>\n",
       "      <td>NaN</td>\n",
       "      <td>NaN</td>\n",
       "      <td>NaN</td>\n",
       "      <td>NaN</td>\n",
       "      <td>NaN</td>\n",
       "      <td>NaN</td>\n",
       "      <td>NaN</td>\n",
       "      <td>NaN</td>\n",
       "    </tr>\n",
       "    <tr>\n",
       "      <th>1</th>\n",
       "      <td>P522593</td>\n",
       "      <td>0x08000000</td>\n",
       "      <td>tilbarsip</td>\n",
       "      <td>P522593</td>\n",
       "      <td>Til-Barsip 02</td>\n",
       "      <td>Tell Ahmar (Til Barsip)</td>\n",
       "      <td>658410.0</td>\n",
       "      <td>[38.1191944, 36.6749623]</td>\n",
       "      <td>T 02</td>\n",
       "      <td>001 -  Hanni Archive (House C1)</td>\n",
       "      <td>...</td>\n",
       "      <td>NaN</td>\n",
       "      <td>NaN</td>\n",
       "      <td>NaN</td>\n",
       "      <td>NaN</td>\n",
       "      <td>NaN</td>\n",
       "      <td>NaN</td>\n",
       "      <td>NaN</td>\n",
       "      <td>NaN</td>\n",
       "      <td>NaN</td>\n",
       "      <td>NaN</td>\n",
       "    </tr>\n",
       "    <tr>\n",
       "      <th>2</th>\n",
       "      <td>P522594</td>\n",
       "      <td>0x08000000</td>\n",
       "      <td>tilbarsip</td>\n",
       "      <td>P522594</td>\n",
       "      <td>Til-Barsip 03</td>\n",
       "      <td>Tell Ahmar (Til Barsip)</td>\n",
       "      <td>658410.0</td>\n",
       "      <td>[38.1191944, 36.6749623]</td>\n",
       "      <td>T 03</td>\n",
       "      <td>001 -  Hanni Archive (House C1)</td>\n",
       "      <td>...</td>\n",
       "      <td>NaN</td>\n",
       "      <td>NaN</td>\n",
       "      <td>NaN</td>\n",
       "      <td>NaN</td>\n",
       "      <td>NaN</td>\n",
       "      <td>NaN</td>\n",
       "      <td>NaN</td>\n",
       "      <td>NaN</td>\n",
       "      <td>NaN</td>\n",
       "      <td>NaN</td>\n",
       "    </tr>\n",
       "  </tbody>\n",
       "</table>\n",
       "<p>3 rows × 404 columns</p>\n",
       "</div>\n",
       "    <div class=\"colab-df-buttons\">\n",
       "\n",
       "  <div class=\"colab-df-container\">\n",
       "    <button class=\"colab-df-convert\" onclick=\"convertToInteractive('df-87805233-9f9c-4a70-8963-a60111c44692')\"\n",
       "            title=\"Convert this dataframe to an interactive table.\"\n",
       "            style=\"display:none;\">\n",
       "\n",
       "  <svg xmlns=\"http://www.w3.org/2000/svg\" height=\"24px\" viewBox=\"0 -960 960 960\">\n",
       "    <path d=\"M120-120v-720h720v720H120Zm60-500h600v-160H180v160Zm220 220h160v-160H400v160Zm0 220h160v-160H400v160ZM180-400h160v-160H180v160Zm440 0h160v-160H620v160ZM180-180h160v-160H180v160Zm440 0h160v-160H620v160Z\"/>\n",
       "  </svg>\n",
       "    </button>\n",
       "\n",
       "  <style>\n",
       "    .colab-df-container {\n",
       "      display:flex;\n",
       "      gap: 12px;\n",
       "    }\n",
       "\n",
       "    .colab-df-convert {\n",
       "      background-color: #E8F0FE;\n",
       "      border: none;\n",
       "      border-radius: 50%;\n",
       "      cursor: pointer;\n",
       "      display: none;\n",
       "      fill: #1967D2;\n",
       "      height: 32px;\n",
       "      padding: 0 0 0 0;\n",
       "      width: 32px;\n",
       "    }\n",
       "\n",
       "    .colab-df-convert:hover {\n",
       "      background-color: #E2EBFA;\n",
       "      box-shadow: 0px 1px 2px rgba(60, 64, 67, 0.3), 0px 1px 3px 1px rgba(60, 64, 67, 0.15);\n",
       "      fill: #174EA6;\n",
       "    }\n",
       "\n",
       "    .colab-df-buttons div {\n",
       "      margin-bottom: 4px;\n",
       "    }\n",
       "\n",
       "    [theme=dark] .colab-df-convert {\n",
       "      background-color: #3B4455;\n",
       "      fill: #D2E3FC;\n",
       "    }\n",
       "\n",
       "    [theme=dark] .colab-df-convert:hover {\n",
       "      background-color: #434B5C;\n",
       "      box-shadow: 0px 1px 3px 1px rgba(0, 0, 0, 0.15);\n",
       "      filter: drop-shadow(0px 1px 2px rgba(0, 0, 0, 0.3));\n",
       "      fill: #FFFFFF;\n",
       "    }\n",
       "  </style>\n",
       "\n",
       "    <script>\n",
       "      const buttonEl =\n",
       "        document.querySelector('#df-87805233-9f9c-4a70-8963-a60111c44692 button.colab-df-convert');\n",
       "      buttonEl.style.display =\n",
       "        google.colab.kernel.accessAllowed ? 'block' : 'none';\n",
       "\n",
       "      async function convertToInteractive(key) {\n",
       "        const element = document.querySelector('#df-87805233-9f9c-4a70-8963-a60111c44692');\n",
       "        const dataTable =\n",
       "          await google.colab.kernel.invokeFunction('convertToInteractive',\n",
       "                                                    [key], {});\n",
       "        if (!dataTable) return;\n",
       "\n",
       "        const docLinkHtml = 'Like what you see? Visit the ' +\n",
       "          '<a target=\"_blank\" href=https://colab.research.google.com/notebooks/data_table.ipynb>data table notebook</a>'\n",
       "          + ' to learn more about interactive tables.';\n",
       "        element.innerHTML = '';\n",
       "        dataTable['output_type'] = 'display_data';\n",
       "        await google.colab.output.renderOutput(dataTable, element);\n",
       "        const docLink = document.createElement('div');\n",
       "        docLink.innerHTML = docLinkHtml;\n",
       "        element.appendChild(docLink);\n",
       "      }\n",
       "    </script>\n",
       "  </div>\n",
       "\n",
       "    </div>\n",
       "  </div>\n"
      ],
      "text/plain": [
       "   id_text       langs    project id_text.1 primary_publication  \\\n",
       "0  P522592  0x08000000  tilbarsip   P522592       Til-Barsip 01   \n",
       "1  P522593  0x08000000  tilbarsip   P522593       Til-Barsip 02   \n",
       "2  P522594  0x08000000  tilbarsip   P522594       Til-Barsip 03   \n",
       "\n",
       "               provenience  pleiades_id            pleiades_coord  \\\n",
       "0  Tell Ahmar (Til Barsip)     658410.0  [38.1191944, 36.6749623]   \n",
       "1  Tell Ahmar (Til Barsip)     658410.0  [38.1191944, 36.6749623]   \n",
       "2  Tell Ahmar (Til Barsip)     658410.0  [38.1191944, 36.6749623]   \n",
       "\n",
       "  excavation_no                          archive  ... Q_places parallels  \\\n",
       "0          T 01  001 -  Hanni Archive (House C1)  ...      NaN       NaN   \n",
       "1          T 02  001 -  Hanni Archive (House C1)  ...      NaN       NaN   \n",
       "2          T 03  001 -  Hanni Archive (House C1)  ...      NaN       NaN   \n",
       "\n",
       "  new_q subseries subseries_section description oracc_id sec1 chap sec2  \n",
       "0   NaN       NaN               NaN         NaN      NaN  NaN  NaN  NaN  \n",
       "1   NaN       NaN               NaN         NaN      NaN  NaN  NaN  NaN  \n",
       "2   NaN       NaN               NaN         NaN      NaN  NaN  NaN  NaN  \n",
       "\n",
       "[3 rows x 404 columns]"
      ]
     },
     "execution_count": 5,
     "metadata": {},
     "output_type": "execute_result"
    }
   ],
   "source": [
    "megacatalogue = megacatalogue.drop(columns=['Unnamed: 0'])\n",
    "megacatalogue.head(3)"
   ]
  },
  {
   "cell_type": "markdown",
   "metadata": {
    "id": "YI2PZ2jSbgcL"
   },
   "source": [
    "Getting a count for each header, i.e. how many cells have data in them under each header field"
   ]
  },
  {
   "cell_type": "code",
   "execution_count": 6,
   "metadata": {
    "executionInfo": {
     "elapsed": 6,
     "status": "ok",
     "timestamp": 1693259123907,
     "user": {
      "displayName": "Melinee Her",
      "userId": "06864672402504422512"
     },
     "user_tz": 420
    },
    "id": "7JOBtGS9bhHh"
   },
   "outputs": [],
   "source": [
    "counts = megacatalogue.count(axis = 'index')"
   ]
  },
  {
   "cell_type": "code",
   "execution_count": 7,
   "metadata": {
    "executionInfo": {
     "elapsed": 9,
     "status": "ok",
     "timestamp": 1693259124122,
     "user": {
      "displayName": "Melinee Her",
      "userId": "06864672402504422512"
     },
     "user_tz": 420
    },
    "id": "2ughhnHhdNYq"
   },
   "outputs": [],
   "source": [
    "summary = pd.DataFrame({'count': counts})"
   ]
  },
  {
   "cell_type": "code",
   "execution_count": 8,
   "metadata": {
    "colab": {
     "base_uri": "https://localhost:8080/",
     "height": 2282
    },
    "executionInfo": {
     "elapsed": 8,
     "status": "ok",
     "timestamp": 1693259124122,
     "user": {
      "displayName": "Melinee Her",
      "userId": "06864672402504422512"
     },
     "user_tz": 420
    },
    "id": "yV37zkPGfaSZ",
    "outputId": "b016b2ad-8e03-4b18-9e04-203168aeb07b"
   },
   "outputs": [
    {
     "data": {
      "text/html": [
       "\n",
       "  <div id=\"df-381337a8-54b8-46cc-8bc5-c7c37a3b692d\" class=\"colab-df-container\">\n",
       "    <div>\n",
       "<style scoped>\n",
       "    .dataframe tbody tr th:only-of-type {\n",
       "        vertical-align: middle;\n",
       "    }\n",
       "\n",
       "    .dataframe tbody tr th {\n",
       "        vertical-align: top;\n",
       "    }\n",
       "\n",
       "    .dataframe thead th {\n",
       "        text-align: right;\n",
       "    }\n",
       "</style>\n",
       "<table border=\"1\" class=\"dataframe\">\n",
       "  <thead>\n",
       "    <tr style=\"text-align: right;\">\n",
       "      <th></th>\n",
       "      <th>count</th>\n",
       "    </tr>\n",
       "  </thead>\n",
       "  <tbody>\n",
       "    <tr>\n",
       "      <th>id_text</th>\n",
       "      <td>171145</td>\n",
       "    </tr>\n",
       "    <tr>\n",
       "      <th>langs</th>\n",
       "      <td>137029</td>\n",
       "    </tr>\n",
       "    <tr>\n",
       "      <th>project</th>\n",
       "      <td>171145</td>\n",
       "    </tr>\n",
       "    <tr>\n",
       "      <th>id_text.1</th>\n",
       "      <td>161728</td>\n",
       "    </tr>\n",
       "    <tr>\n",
       "      <th>primary_publication</th>\n",
       "      <td>99319</td>\n",
       "    </tr>\n",
       "    <tr>\n",
       "      <th>...</th>\n",
       "      <td>...</td>\n",
       "    </tr>\n",
       "    <tr>\n",
       "      <th>description</th>\n",
       "      <td>0</td>\n",
       "    </tr>\n",
       "    <tr>\n",
       "      <th>oracc_id</th>\n",
       "      <td>12</td>\n",
       "    </tr>\n",
       "    <tr>\n",
       "      <th>sec1</th>\n",
       "      <td>0</td>\n",
       "    </tr>\n",
       "    <tr>\n",
       "      <th>chap</th>\n",
       "      <td>0</td>\n",
       "    </tr>\n",
       "    <tr>\n",
       "      <th>sec2</th>\n",
       "      <td>0</td>\n",
       "    </tr>\n",
       "  </tbody>\n",
       "</table>\n",
       "<p>404 rows × 1 columns</p>\n",
       "</div>\n",
       "    <div class=\"colab-df-buttons\">\n",
       "\n",
       "  <div class=\"colab-df-container\">\n",
       "    <button class=\"colab-df-convert\" onclick=\"convertToInteractive('df-381337a8-54b8-46cc-8bc5-c7c37a3b692d')\"\n",
       "            title=\"Convert this dataframe to an interactive table.\"\n",
       "            style=\"display:none;\">\n",
       "\n",
       "  <svg xmlns=\"http://www.w3.org/2000/svg\" height=\"24px\" viewBox=\"0 -960 960 960\">\n",
       "    <path d=\"M120-120v-720h720v720H120Zm60-500h600v-160H180v160Zm220 220h160v-160H400v160Zm0 220h160v-160H400v160ZM180-400h160v-160H180v160Zm440 0h160v-160H620v160ZM180-180h160v-160H180v160Zm440 0h160v-160H620v160Z\"/>\n",
       "  </svg>\n",
       "    </button>\n",
       "\n",
       "  <style>\n",
       "    .colab-df-container {\n",
       "      display:flex;\n",
       "      gap: 12px;\n",
       "    }\n",
       "\n",
       "    .colab-df-convert {\n",
       "      background-color: #E8F0FE;\n",
       "      border: none;\n",
       "      border-radius: 50%;\n",
       "      cursor: pointer;\n",
       "      display: none;\n",
       "      fill: #1967D2;\n",
       "      height: 32px;\n",
       "      padding: 0 0 0 0;\n",
       "      width: 32px;\n",
       "    }\n",
       "\n",
       "    .colab-df-convert:hover {\n",
       "      background-color: #E2EBFA;\n",
       "      box-shadow: 0px 1px 2px rgba(60, 64, 67, 0.3), 0px 1px 3px 1px rgba(60, 64, 67, 0.15);\n",
       "      fill: #174EA6;\n",
       "    }\n",
       "\n",
       "    .colab-df-buttons div {\n",
       "      margin-bottom: 4px;\n",
       "    }\n",
       "\n",
       "    [theme=dark] .colab-df-convert {\n",
       "      background-color: #3B4455;\n",
       "      fill: #D2E3FC;\n",
       "    }\n",
       "\n",
       "    [theme=dark] .colab-df-convert:hover {\n",
       "      background-color: #434B5C;\n",
       "      box-shadow: 0px 1px 3px 1px rgba(0, 0, 0, 0.15);\n",
       "      filter: drop-shadow(0px 1px 2px rgba(0, 0, 0, 0.3));\n",
       "      fill: #FFFFFF;\n",
       "    }\n",
       "  </style>\n",
       "\n",
       "    <script>\n",
       "      const buttonEl =\n",
       "        document.querySelector('#df-381337a8-54b8-46cc-8bc5-c7c37a3b692d button.colab-df-convert');\n",
       "      buttonEl.style.display =\n",
       "        google.colab.kernel.accessAllowed ? 'block' : 'none';\n",
       "\n",
       "      async function convertToInteractive(key) {\n",
       "        const element = document.querySelector('#df-381337a8-54b8-46cc-8bc5-c7c37a3b692d');\n",
       "        const dataTable =\n",
       "          await google.colab.kernel.invokeFunction('convertToInteractive',\n",
       "                                                    [key], {});\n",
       "        if (!dataTable) return;\n",
       "\n",
       "        const docLinkHtml = 'Like what you see? Visit the ' +\n",
       "          '<a target=\"_blank\" href=https://colab.research.google.com/notebooks/data_table.ipynb>data table notebook</a>'\n",
       "          + ' to learn more about interactive tables.';\n",
       "        element.innerHTML = '';\n",
       "        dataTable['output_type'] = 'display_data';\n",
       "        await google.colab.output.renderOutput(dataTable, element);\n",
       "        const docLink = document.createElement('div');\n",
       "        docLink.innerHTML = docLinkHtml;\n",
       "        element.appendChild(docLink);\n",
       "      }\n",
       "    </script>\n",
       "  </div>\n",
       "\n",
       "\n",
       "<div id=\"df-48640f06-4b5b-4cd4-839f-cc6de72784b5\">\n",
       "  <button class=\"colab-df-quickchart\" onclick=\"quickchart('df-48640f06-4b5b-4cd4-839f-cc6de72784b5')\"\n",
       "            title=\"Suggest charts.\"\n",
       "            style=\"display:none;\">\n",
       "\n",
       "<svg xmlns=\"http://www.w3.org/2000/svg\" height=\"24px\"viewBox=\"0 0 24 24\"\n",
       "     width=\"24px\">\n",
       "    <g>\n",
       "        <path d=\"M19 3H5c-1.1 0-2 .9-2 2v14c0 1.1.9 2 2 2h14c1.1 0 2-.9 2-2V5c0-1.1-.9-2-2-2zM9 17H7v-7h2v7zm4 0h-2V7h2v10zm4 0h-2v-4h2v4z\"/>\n",
       "    </g>\n",
       "</svg>\n",
       "  </button>\n",
       "\n",
       "<style>\n",
       "  .colab-df-quickchart {\n",
       "    background-color: #E8F0FE;\n",
       "    border: none;\n",
       "    border-radius: 50%;\n",
       "    cursor: pointer;\n",
       "    display: none;\n",
       "    fill: #1967D2;\n",
       "    height: 32px;\n",
       "    padding: 0 0 0 0;\n",
       "    width: 32px;\n",
       "  }\n",
       "\n",
       "  .colab-df-quickchart:hover {\n",
       "    background-color: #E2EBFA;\n",
       "    box-shadow: 0px 1px 2px rgba(60, 64, 67, 0.3), 0px 1px 3px 1px rgba(60, 64, 67, 0.15);\n",
       "    fill: #174EA6;\n",
       "  }\n",
       "\n",
       "  [theme=dark] .colab-df-quickchart {\n",
       "    background-color: #3B4455;\n",
       "    fill: #D2E3FC;\n",
       "  }\n",
       "\n",
       "  [theme=dark] .colab-df-quickchart:hover {\n",
       "    background-color: #434B5C;\n",
       "    box-shadow: 0px 1px 3px 1px rgba(0, 0, 0, 0.15);\n",
       "    filter: drop-shadow(0px 1px 2px rgba(0, 0, 0, 0.3));\n",
       "    fill: #FFFFFF;\n",
       "  }\n",
       "</style>\n",
       "\n",
       "  <script>\n",
       "    async function quickchart(key) {\n",
       "      const charts = await google.colab.kernel.invokeFunction(\n",
       "          'suggestCharts', [key], {});\n",
       "    }\n",
       "    (() => {\n",
       "      let quickchartButtonEl =\n",
       "        document.querySelector('#df-48640f06-4b5b-4cd4-839f-cc6de72784b5 button');\n",
       "      quickchartButtonEl.style.display =\n",
       "        google.colab.kernel.accessAllowed ? 'block' : 'none';\n",
       "    })();\n",
       "  </script>\n",
       "</div>\n",
       "    </div>\n",
       "  </div>\n"
      ],
      "text/plain": [
       "                      count\n",
       "id_text              171145\n",
       "langs                137029\n",
       "project              171145\n",
       "id_text.1            161728\n",
       "primary_publication   99319\n",
       "...                     ...\n",
       "description               0\n",
       "oracc_id                 12\n",
       "sec1                      0\n",
       "chap                      0\n",
       "sec2                      0\n",
       "\n",
       "[404 rows x 1 columns]"
      ]
     },
     "execution_count": 8,
     "metadata": {},
     "output_type": "execute_result"
    }
   ],
   "source": [
    "summary"
   ]
  },
  {
   "cell_type": "code",
   "execution_count": 12,
   "metadata": {
    "colab": {
     "base_uri": "https://localhost:8080/"
    },
    "executionInfo": {
     "elapsed": 5,
     "status": "ok",
     "timestamp": 1693259384834,
     "user": {
      "displayName": "Melinee Her",
      "userId": "06864672402504422512"
     },
     "user_tz": 420
    },
    "id": "90nQIZG1G8Ld",
    "outputId": "42cddd24-8b4d-4181-dee6-2f33ec31d484"
   },
   "outputs": [
    {
     "data": {
      "text/plain": [
       "Index(['stt_no', 'funder', 'language_remarks', 'principal', 'record_id',\n",
       "       'repository', 'bibliography__id_biblio', 'year_name_eponym',\n",
       "       'CDLI_problems', 'has-score', 'reference', 'Non_Sign_List_Series',\n",
       "       'series_2', 'cdli_collation', 'tablet_number_2', 'tradition', 'corpus',\n",
       "       'attested', 'composition_designation', 'object_ref', 'new_subgenre',\n",
       "       'primary_publication2', 'catchline', 'colophon_describing_source',\n",
       "       'colophon_disclosing_author', 'P_number_problems', 'royal_colophon',\n",
       "       'series_tablet_no', 'textual_colophon', 'Additional_P_numbers',\n",
       "       'cdli_id_numbers', 'composite_id', 'elevation', 'Q_designation',\n",
       "       'exemplar_number', 'findspots', 'btto_attribution', 'century',\n",
       "       'outline_sort_name', 'subproject', 'modern_converted_date',\n",
       "       'copy_period', 'c_name', 'c_item', 'c_both', 'c_num_name', 'c_group',\n",
       "       'special_features', 'hand', 'obta_no', 'sub_genre',\n",
       "       'additional_P_numbers', 'ancient_day', 'ancient_month',\n",
       "       'old_composition_id', 'accounting_period', 'Q_objects', 'Q_places',\n",
       "       'parallels', 'new_q', 'subseries', 'subseries_section', 'description',\n",
       "       'sec1', 'chap', 'sec2'],\n",
       "      dtype='object')"
      ]
     },
     "execution_count": 12,
     "metadata": {},
     "output_type": "execute_result"
    }
   ],
   "source": [
    "summary[summary['count'] == 0].index"
   ]
  },
  {
   "cell_type": "code",
   "execution_count": null,
   "metadata": {
    "id": "vMqdpBziH4pY"
   },
   "outputs": [],
   "source": []
  }
 ],
 "metadata": {
  "colab": {
   "authorship_tag": "ABX9TyMbgD5lvgq99OgbtYCQYpyU",
   "provenance": []
  },
  "kernelspec": {
   "display_name": "Python 3",
   "name": "python3"
  },
  "language_info": {
   "name": "python"
  }
 },
 "nbformat": 4,
 "nbformat_minor": 0
}