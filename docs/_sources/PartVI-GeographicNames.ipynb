{
 "cells": [
  {
   "cell_type": "markdown",
   "id": "97a349d3",
   "metadata": {
    "id": "LWrBvMcdO1CY"
   },
   "source": [
    "# VI. Geography"
   ]
  },
  {
   "cell_type": "markdown",
   "id": "d2584615",
   "metadata": {
    "id": "LeUck1AhXyco"
   },
   "source": [
    "In this section, we make use of the [Geographic Data for Ancient Near Eastern Archaeological Sites](https://www.lingfil.uu.se/research/assyriology/earth/) from Professor [Olof Pedersén](https://katalog.uu.se/profile/?id=N94-579) at Uppsala University to locate some of the geographic names appeared in the Drehem texts. \n",
    "\n",
    "We will use fuzzy search to find matches between the ANE files and our texts, and then use the geographic locations in the ANE to plot those that appear in our texts."
   ]
  },
  {
   "cell_type": "markdown",
   "id": "1b9104ed",
   "metadata": {
    "id": "MdwGG8EqZbq1"
   },
   "source": [
    "The following installs and imports the relevant libararies."
   ]
  },
  {
   "cell_type": "code",
   "execution_count": null,
   "id": "a4b67864",
   "metadata": {
    "colab": {
     "base_uri": "https://localhost:8080/"
    },
    "id": "wiJbf-OgO7mM",
    "outputId": "dd45a771-a5b4-40bd-a590-ebd8c672b31e"
   },
   "outputs": [
    {
     "name": "stdout",
     "output_type": "stream",
     "text": [
      "Drive already mounted at /content/drive; to attempt to forcibly remount, call drive.mount(\"/content/drive\", force_remount=True).\n"
     ]
    }
   ],
   "source": [
    "from google.colab import drive\n",
    "drive.mount('/content/drive')"
   ]
  },
  {
   "cell_type": "code",
   "execution_count": null,
   "id": "1556a826",
   "metadata": {
    "colab": {
     "base_uri": "https://localhost:8080/"
    },
    "id": "A9LzJ78zSc6c",
    "outputId": "5a5e6d1e-bbec-445c-e53a-bd1a56b2592c"
   },
   "outputs": [
    {
     "name": "stdout",
     "output_type": "stream",
     "text": [
      "[Errno 2] No such file or directory: 'drive/My Drive/SumerianNetworks'\n",
      "/content/drive/My Drive/SumerianNetworks\n"
     ]
    }
   ],
   "source": [
    "%cd \"drive/My Drive/SumerianNetworks\""
   ]
  },
  {
   "cell_type": "code",
   "execution_count": null,
   "id": "136dcb15",
   "metadata": {
    "id": "q2Vc2Oi1SqP0"
   },
   "outputs": [],
   "source": [
    "!pip install geopandas\n",
    "!pip install descartes\n",
    "!pip install pysal\n",
    "!pip install fuzzywuzzy\n",
    "!pip install python-Levenshtein\n",
    "!pip install NetworkX"
   ]
  },
  {
   "cell_type": "code",
   "execution_count": null,
   "id": "ee574f47",
   "metadata": {
    "colab": {
     "base_uri": "https://localhost:8080/"
    },
    "id": "Q_mDFnRCSzjs",
    "outputId": "30b2d25f-0771-42e6-de5a-92982483ad88"
   },
   "outputs": [
    {
     "name": "stderr",
     "output_type": "stream",
     "text": [
      "/usr/local/lib/python3.7/dist-packages/geopandas/_compat.py:110: UserWarning: The Shapely GEOS version (3.8.0-CAPI-1.13.1 ) is incompatible with the GEOS version PyGEOS was compiled with (3.9.1-CAPI-1.14.2). Conversions between both will be slow.\n",
      "  shapely_geos_version, geos_capi_version_string\n"
     ]
    }
   ],
   "source": [
    "import pandas as pd\n",
    "import numpy as np\n",
    "import geopandas as gpd\n",
    "from fuzzywuzzy import fuzz \n",
    "from fuzzywuzzy import process \n",
    "import fiona\n",
    "fiona.drvsupport.supported_drivers['kml'] = 'rw' # enable KML support which is disabled by default\n",
    "fiona.drvsupport.supported_drivers['KML'] = 'rw' # enable KML support which is disabled by defaults\n",
    "import networkx as nx"
   ]
  },
  {
   "cell_type": "markdown",
   "id": "6c6a7f1c",
   "metadata": {
    "id": "O2f3dTGieSC2"
   },
   "source": [
    "We first import filtered Drehem data and extract all the geographic names: SN (settlement name), TN (temple name), AN, FN (field name), QN (quarter name), WN (water course name)."
   ]
  },
  {
   "cell_type": "code",
   "execution_count": null,
   "id": "df410303",
   "metadata": {
    "colab": {
     "base_uri": "https://localhost:8080/",
     "height": 195
    },
    "id": "lEr4PTVZTGwj",
    "outputId": "29ed6d44-8742-4c05-bebd-ff8245e48cdd"
   },
   "outputs": [
    {
     "data": {
      "text/html": [
       "<div>\n",
       "<style scoped>\n",
       "    .dataframe tbody tr th:only-of-type {\n",
       "        vertical-align: middle;\n",
       "    }\n",
       "\n",
       "    .dataframe tbody tr th {\n",
       "        vertical-align: top;\n",
       "    }\n",
       "\n",
       "    .dataframe thead th {\n",
       "        text-align: right;\n",
       "    }\n",
       "</style>\n",
       "<table border=\"1\" class=\"dataframe\">\n",
       "  <thead>\n",
       "    <tr style=\"text-align: right;\">\n",
       "      <th></th>\n",
       "      <th>Unnamed: 0</th>\n",
       "      <th>lemma</th>\n",
       "      <th>id_text</th>\n",
       "      <th>id_line</th>\n",
       "      <th>id_word</th>\n",
       "      <th>label</th>\n",
       "    </tr>\n",
       "  </thead>\n",
       "  <tbody>\n",
       "    <tr>\n",
       "      <th>0</th>\n",
       "      <td>0</td>\n",
       "      <td>1(geš₂)[]NU</td>\n",
       "      <td>P113959</td>\n",
       "      <td>3</td>\n",
       "      <td>P113959.3.1</td>\n",
       "      <td>o 1</td>\n",
       "    </tr>\n",
       "    <tr>\n",
       "      <th>1</th>\n",
       "      <td>1</td>\n",
       "      <td>1(u)[]NU</td>\n",
       "      <td>P113959</td>\n",
       "      <td>3</td>\n",
       "      <td>P113959.3.2</td>\n",
       "      <td>o 1</td>\n",
       "    </tr>\n",
       "    <tr>\n",
       "      <th>2</th>\n",
       "      <td>2</td>\n",
       "      <td>6(aš)[]NU</td>\n",
       "      <td>P113959</td>\n",
       "      <td>3</td>\n",
       "      <td>P113959.3.3</td>\n",
       "      <td>o 1</td>\n",
       "    </tr>\n",
       "    <tr>\n",
       "      <th>3</th>\n",
       "      <td>3</td>\n",
       "      <td>4(barig)[]NU</td>\n",
       "      <td>P113959</td>\n",
       "      <td>3</td>\n",
       "      <td>P113959.3.4</td>\n",
       "      <td>o 1</td>\n",
       "    </tr>\n",
       "    <tr>\n",
       "      <th>4</th>\n",
       "      <td>4</td>\n",
       "      <td>3(ban₂)[]NU</td>\n",
       "      <td>P113959</td>\n",
       "      <td>3</td>\n",
       "      <td>P113959.3.5</td>\n",
       "      <td>o 1</td>\n",
       "    </tr>\n",
       "  </tbody>\n",
       "</table>\n",
       "</div>"
      ],
      "text/plain": [
       "   Unnamed: 0         lemma  id_text  id_line      id_word label\n",
       "0           0   1(geš₂)[]NU  P113959        3  P113959.3.1   o 1\n",
       "1           1      1(u)[]NU  P113959        3  P113959.3.2   o 1\n",
       "2           2     6(aš)[]NU  P113959        3  P113959.3.3   o 1\n",
       "3           3  4(barig)[]NU  P113959        3  P113959.3.4   o 1\n",
       "4           4   3(ban₂)[]NU  P113959        3  P113959.3.5   o 1"
      ]
     },
     "execution_count": 9,
     "metadata": {
      "tags": []
     },
     "output_type": "execute_result"
    }
   ],
   "source": [
    "drehem = pd.read_csv(\"JupyterBook/words_df.csv\")\n",
    "drehem.head()"
   ]
  },
  {
   "cell_type": "code",
   "execution_count": null,
   "id": "a55b7de4",
   "metadata": {
    "colab": {
     "base_uri": "https://localhost:8080/"
    },
    "id": "GCIpIt0MUgSN",
    "outputId": "794242d3-64ea-4e55-b753-9ffb8e49bd41"
   },
   "outputs": [
    {
     "data": {
      "text/plain": [
       "(3175331, 6)"
      ]
     },
     "execution_count": 10,
     "metadata": {
      "tags": []
     },
     "output_type": "execute_result"
    }
   ],
   "source": [
    "drehem.shape"
   ]
  },
  {
   "cell_type": "code",
   "execution_count": null,
   "id": "a956845d",
   "metadata": {
    "id": "aInJ--1PWC_7"
   },
   "outputs": [],
   "source": [
    "geo_names = {}\n",
    "p_number = ''\n",
    "places = []\n",
    "geo_names_list = []\n",
    "\n",
    "#SN (settlement name), TN (temple name), AN, FN (field name), QN (quarter name), WN (water course name)\n",
    "#remove year names\n",
    "types = [\"SN\", \"TN\", \"AN\", \"FN\", \"QN\", \"WN\"]\n",
    "for index, row in drehem.iterrows():\n",
    "      # if row['id_word'][:7] != p_number:\n",
    "      #     geo_names[p_number] = places\n",
    "      #     p_number = row['id_word'][:7]\n",
    "      #     places = []\n",
    "      w = row['lemma']\n",
    "      if w[-2:] in types:\n",
    "          geo_names[row['id_text']] = w\n",
    "# geo_names[p_number] = [places]\n",
    "# del geo_names['']"
   ]
  },
  {
   "cell_type": "code",
   "execution_count": null,
   "id": "aa3c8576",
   "metadata": {
    "colab": {
     "base_uri": "https://localhost:8080/",
     "height": 195
    },
    "id": "Lo3gAytpXxDP",
    "outputId": "78349705-a662-40f2-b9cb-646f9e26a9d1"
   },
   "outputs": [
    {
     "data": {
      "text/html": [
       "<div>\n",
       "<style scoped>\n",
       "    .dataframe tbody tr th:only-of-type {\n",
       "        vertical-align: middle;\n",
       "    }\n",
       "\n",
       "    .dataframe tbody tr th {\n",
       "        vertical-align: top;\n",
       "    }\n",
       "\n",
       "    .dataframe thead th {\n",
       "        text-align: right;\n",
       "    }\n",
       "</style>\n",
       "<table border=\"1\" class=\"dataframe\">\n",
       "  <thead>\n",
       "    <tr style=\"text-align: right;\">\n",
       "      <th></th>\n",
       "      <th>ip</th>\n",
       "      <th>geo_name</th>\n",
       "    </tr>\n",
       "  </thead>\n",
       "  <tbody>\n",
       "    <tr>\n",
       "      <th>0</th>\n",
       "      <td>P125538</td>\n",
       "      <td>Nibru[1]SN</td>\n",
       "    </tr>\n",
       "    <tr>\n",
       "      <th>1</th>\n",
       "      <td>P379198</td>\n",
       "      <td>hub₂-e[]FN</td>\n",
       "    </tr>\n",
       "    <tr>\n",
       "      <th>2</th>\n",
       "      <td>P110676</td>\n",
       "      <td>e-su-dar[]FN</td>\n",
       "    </tr>\n",
       "    <tr>\n",
       "      <th>3</th>\n",
       "      <td>P388027</td>\n",
       "      <td>Irisaŋrig[1]SN</td>\n",
       "    </tr>\n",
       "    <tr>\n",
       "      <th>4</th>\n",
       "      <td>P118246</td>\n",
       "      <td>Gaeš[1]SN</td>\n",
       "    </tr>\n",
       "  </tbody>\n",
       "</table>\n",
       "</div>"
      ],
      "text/plain": [
       "        ip        geo_name\n",
       "0  P125538      Nibru[1]SN\n",
       "1  P379198      hub₂-e[]FN\n",
       "2  P110676    e-su-dar[]FN\n",
       "3  P388027  Irisaŋrig[1]SN\n",
       "4  P118246       Gaeš[1]SN"
      ]
     },
     "execution_count": 12,
     "metadata": {
      "tags": []
     },
     "output_type": "execute_result"
    }
   ],
   "source": [
    "d = {'ip':list(geo_names.keys()),'geo_name': list(geo_names.values())}\n",
    "geo_df = pd.DataFrame.from_dict(data = d)\n",
    "geo_df.head()"
   ]
  },
  {
   "cell_type": "markdown",
   "id": "395ffeee",
   "metadata": {
    "id": "_Vo_KqSdby1g"
   },
   "source": [
    "Now we remove the suffixes and leave just the geographical names. (eg. \"[00]SN\")."
   ]
  },
  {
   "cell_type": "code",
   "execution_count": null,
   "id": "e7762269",
   "metadata": {
    "colab": {
     "base_uri": "https://localhost:8080/",
     "height": 195
    },
    "id": "_1PV15SyYS2w",
    "outputId": "18f80d79-e8ef-4ccc-de76-77633b72f507"
   },
   "outputs": [
    {
     "data": {
      "text/html": [
       "<div>\n",
       "<style scoped>\n",
       "    .dataframe tbody tr th:only-of-type {\n",
       "        vertical-align: middle;\n",
       "    }\n",
       "\n",
       "    .dataframe tbody tr th {\n",
       "        vertical-align: top;\n",
       "    }\n",
       "\n",
       "    .dataframe thead th {\n",
       "        text-align: right;\n",
       "    }\n",
       "</style>\n",
       "<table border=\"1\" class=\"dataframe\">\n",
       "  <thead>\n",
       "    <tr style=\"text-align: right;\">\n",
       "      <th></th>\n",
       "      <th>ip</th>\n",
       "      <th>geo_name</th>\n",
       "      <th>cleaned_geo_name</th>\n",
       "    </tr>\n",
       "  </thead>\n",
       "  <tbody>\n",
       "    <tr>\n",
       "      <th>0</th>\n",
       "      <td>P125538</td>\n",
       "      <td>Nibru[1]SN</td>\n",
       "      <td>Nibru</td>\n",
       "    </tr>\n",
       "    <tr>\n",
       "      <th>1</th>\n",
       "      <td>P379198</td>\n",
       "      <td>hub₂-e[]FN</td>\n",
       "      <td>hub₂-e</td>\n",
       "    </tr>\n",
       "    <tr>\n",
       "      <th>2</th>\n",
       "      <td>P110676</td>\n",
       "      <td>e-su-dar[]FN</td>\n",
       "      <td>e-su-dar</td>\n",
       "    </tr>\n",
       "    <tr>\n",
       "      <th>3</th>\n",
       "      <td>P388027</td>\n",
       "      <td>Irisaŋrig[1]SN</td>\n",
       "      <td>Irisaŋrig</td>\n",
       "    </tr>\n",
       "    <tr>\n",
       "      <th>4</th>\n",
       "      <td>P118246</td>\n",
       "      <td>Gaeš[1]SN</td>\n",
       "      <td>Gaeš</td>\n",
       "    </tr>\n",
       "  </tbody>\n",
       "</table>\n",
       "</div>"
      ],
      "text/plain": [
       "        ip        geo_name cleaned_geo_name\n",
       "0  P125538      Nibru[1]SN            Nibru\n",
       "1  P379198      hub₂-e[]FN           hub₂-e\n",
       "2  P110676    e-su-dar[]FN         e-su-dar\n",
       "3  P388027  Irisaŋrig[1]SN        Irisaŋrig\n",
       "4  P118246       Gaeš[1]SN             Gaeš"
      ]
     },
     "execution_count": 14,
     "metadata": {
      "tags": []
     },
     "output_type": "execute_result"
    }
   ],
   "source": [
    "def remove_tail(string):\n",
    "  return string.split(\"[\")[0]\n",
    "\n",
    "non_emp_geo = geo_df\n",
    "non_emp_geo[\"cleaned_geo_name\"] = non_emp_geo[\"geo_name\"].map(remove_tail)\n",
    "non_emp_geo.head()"
   ]
  },
  {
   "cell_type": "markdown",
   "id": "c8097a7f",
   "metadata": {
    "id": "SDPsSwygeaVF"
   },
   "source": [
    "We now import the ANE KMZ files. Make sure you have the latest files from [here](https://www.lingfil.uu.se/research/assyriology/earth/) and change the file name below accordingly."
   ]
  },
  {
   "cell_type": "code",
   "execution_count": null,
   "id": "b9afdbea",
   "metadata": {
    "colab": {
     "base_uri": "https://localhost:8080/",
     "height": 212
    },
    "id": "pgOLWavlbffO",
    "outputId": "217a04fb-9bcc-486d-e07d-d3ffcfbdd7e4"
   },
   "outputs": [
    {
     "name": "stdout",
     "output_type": "stream",
     "text": [
      "(2857, 3)\n"
     ]
    },
    {
     "data": {
      "text/html": [
       "<div>\n",
       "<style scoped>\n",
       "    .dataframe tbody tr th:only-of-type {\n",
       "        vertical-align: middle;\n",
       "    }\n",
       "\n",
       "    .dataframe tbody tr th {\n",
       "        vertical-align: top;\n",
       "    }\n",
       "\n",
       "    .dataframe thead th {\n",
       "        text-align: right;\n",
       "    }\n",
       "</style>\n",
       "<table border=\"1\" class=\"dataframe\">\n",
       "  <thead>\n",
       "    <tr style=\"text-align: right;\">\n",
       "      <th></th>\n",
       "      <th>Name</th>\n",
       "      <th>Description</th>\n",
       "      <th>geometry</th>\n",
       "    </tr>\n",
       "  </thead>\n",
       "  <tbody>\n",
       "    <tr>\n",
       "      <th>0</th>\n",
       "      <td>Adab (Bismaya)</td>\n",
       "      <td></td>\n",
       "      <td>POINT Z (45.62386 31.95071 0.00000)</td>\n",
       "    </tr>\n",
       "    <tr>\n",
       "      <th>1</th>\n",
       "      <td>Abydos</td>\n",
       "      <td></td>\n",
       "      <td>POINT Z (31.91906 26.18509 0.00000)</td>\n",
       "    </tr>\n",
       "    <tr>\n",
       "      <th>2</th>\n",
       "      <td>Adamdun? (Teppe Surkhehgan)</td>\n",
       "      <td></td>\n",
       "      <td>POINT Z (48.79814 32.02168 0.00000)</td>\n",
       "    </tr>\n",
       "    <tr>\n",
       "      <th>3</th>\n",
       "      <td>Admannu / Natmane (Tell 'Ali)</td>\n",
       "      <td></td>\n",
       "      <td>POINT Z (43.68200 35.38198 0.00000)</td>\n",
       "    </tr>\n",
       "    <tr>\n",
       "      <th>4</th>\n",
       "      <td>Adumatu? (Dumat el-Jandal)</td>\n",
       "      <td></td>\n",
       "      <td>POINT Z (39.86723 29.81135 0.00000)</td>\n",
       "    </tr>\n",
       "  </tbody>\n",
       "</table>\n",
       "</div>"
      ],
      "text/plain": [
       "                            Name  ...                             geometry\n",
       "0                 Adab (Bismaya)  ...  POINT Z (45.62386 31.95071 0.00000)\n",
       "1                         Abydos  ...  POINT Z (31.91906 26.18509 0.00000)\n",
       "2    Adamdun? (Teppe Surkhehgan)  ...  POINT Z (48.79814 32.02168 0.00000)\n",
       "3  Admannu / Natmane (Tell 'Ali)  ...  POINT Z (43.68200 35.38198 0.00000)\n",
       "4     Adumatu? (Dumat el-Jandal)  ...  POINT Z (39.86723 29.81135 0.00000)\n",
       "\n",
       "[5 rows x 3 columns]"
      ]
     },
     "execution_count": 15,
     "metadata": {
      "tags": []
     },
     "output_type": "execute_result"
    }
   ],
   "source": [
    "location = gpd.read_file('JupyterBook/jupyter_collection/04_Geographic_Names/geopandas_intro/data/sites.kml', driver='KML',layer=2)\n",
    "print(location.shape)\n",
    "location.head()"
   ]
  },
  {
   "cell_type": "markdown",
   "id": "4647e659",
   "metadata": {
    "id": "eX5Um1dl6UQP"
   },
   "source": [
    "Since the `Name` column contains both the modern name and ancient name of the same place, we will convert them into a list for matching purpose."
   ]
  },
  {
   "cell_type": "code",
   "execution_count": null,
   "id": "774b3743",
   "metadata": {
    "id": "wjxoN-GT6TjZ"
   },
   "outputs": [],
   "source": [
    "def parse_names(string):\n",
    "    \"\"\"Takes in a string (eg. Adamdun? (Teppe Surkhehgan))\n",
    "    Returns a tuple of list of names, and whether \n",
    "    or not there's doubts ('?') on the ancient name (0/1).\n",
    "    In case there\n",
    "    \"\"\"\n",
    "    names = []\n",
    "    ancient_names = \"\"\n",
    "    modern_names = \"\"\n",
    "    if '?' in string:\n",
    "        string = string.replace('?', '')\n",
    "    if '(' in string:\n",
    "        ancient_names = string.split('(')[0]\n",
    "        modern_names = string.split('(')[1].split(')')[0]\n",
    "        if '/' in modern_names:\n",
    "            for name in modern_names.split('/'):\n",
    "                names.append(name)\n",
    "        else:\n",
    "            names.append(modern_names)\n",
    "    else:\n",
    "        ancient_names = string\n",
    "    \n",
    "    if '/' in ancient_names:\n",
    "        for name in ancient_names.split('/'):\n",
    "            names.append(name)\n",
    "    else:\n",
    "        names.append(ancient_names)\n",
    "    return names"
   ]
  },
  {
   "cell_type": "code",
   "execution_count": null,
   "id": "587dbc26",
   "metadata": {
    "colab": {
     "base_uri": "https://localhost:8080/",
     "height": 195
    },
    "id": "E11XkNVcDwc4",
    "outputId": "5be94694-7189-4bd4-eb5d-c0db0b527c8d"
   },
   "outputs": [
    {
     "data": {
      "text/html": [
       "<div>\n",
       "<style scoped>\n",
       "    .dataframe tbody tr th:only-of-type {\n",
       "        vertical-align: middle;\n",
       "    }\n",
       "\n",
       "    .dataframe tbody tr th {\n",
       "        vertical-align: top;\n",
       "    }\n",
       "\n",
       "    .dataframe thead th {\n",
       "        text-align: right;\n",
       "    }\n",
       "</style>\n",
       "<table border=\"1\" class=\"dataframe\">\n",
       "  <thead>\n",
       "    <tr style=\"text-align: right;\">\n",
       "      <th></th>\n",
       "      <th>Name</th>\n",
       "      <th>Description</th>\n",
       "      <th>geometry</th>\n",
       "      <th>Name (in list)</th>\n",
       "    </tr>\n",
       "  </thead>\n",
       "  <tbody>\n",
       "    <tr>\n",
       "      <th>0</th>\n",
       "      <td>Adab (Bismaya)</td>\n",
       "      <td></td>\n",
       "      <td>POINT Z (45.62386 31.95071 0.00000)</td>\n",
       "      <td>[Bismaya, Adab ]</td>\n",
       "    </tr>\n",
       "    <tr>\n",
       "      <th>1</th>\n",
       "      <td>Abydos</td>\n",
       "      <td></td>\n",
       "      <td>POINT Z (31.91906 26.18509 0.00000)</td>\n",
       "      <td>[Abydos]</td>\n",
       "    </tr>\n",
       "    <tr>\n",
       "      <th>2</th>\n",
       "      <td>Adamdun? (Teppe Surkhehgan)</td>\n",
       "      <td></td>\n",
       "      <td>POINT Z (48.79814 32.02168 0.00000)</td>\n",
       "      <td>[Teppe Surkhehgan, Adamdun ]</td>\n",
       "    </tr>\n",
       "    <tr>\n",
       "      <th>3</th>\n",
       "      <td>Admannu / Natmane (Tell 'Ali)</td>\n",
       "      <td></td>\n",
       "      <td>POINT Z (43.68200 35.38198 0.00000)</td>\n",
       "      <td>[Tell 'Ali, Admannu ,  Natmane ]</td>\n",
       "    </tr>\n",
       "    <tr>\n",
       "      <th>4</th>\n",
       "      <td>Adumatu? (Dumat el-Jandal)</td>\n",
       "      <td></td>\n",
       "      <td>POINT Z (39.86723 29.81135 0.00000)</td>\n",
       "      <td>[Dumat el-Jandal, Adumatu ]</td>\n",
       "    </tr>\n",
       "  </tbody>\n",
       "</table>\n",
       "</div>"
      ],
      "text/plain": [
       "                            Name  ...                    Name (in list)\n",
       "0                 Adab (Bismaya)  ...                  [Bismaya, Adab ]\n",
       "1                         Abydos  ...                          [Abydos]\n",
       "2    Adamdun? (Teppe Surkhehgan)  ...      [Teppe Surkhehgan, Adamdun ]\n",
       "3  Admannu / Natmane (Tell 'Ali)  ...  [Tell 'Ali, Admannu ,  Natmane ]\n",
       "4     Adumatu? (Dumat el-Jandal)  ...       [Dumat el-Jandal, Adumatu ]\n",
       "\n",
       "[5 rows x 4 columns]"
      ]
     },
     "execution_count": 17,
     "metadata": {
      "tags": []
     },
     "output_type": "execute_result"
    }
   ],
   "source": [
    "location[\"Name (in list)\"] = location[\"Name\"].map(parse_names)\n",
    "location.head()"
   ]
  },
  {
   "cell_type": "markdown",
   "id": "ea2d99f3",
   "metadata": {
    "id": "fkjvSNSiFcng"
   },
   "source": [
    "There are also columns with a question mark indicating if there's any doubt in the ancient and moden name equivalence, we will make a new column `Doubt?` indicating that information."
   ]
  },
  {
   "cell_type": "code",
   "execution_count": null,
   "id": "0639fe1c",
   "metadata": {
    "colab": {
     "base_uri": "https://localhost:8080/",
     "height": 195
    },
    "id": "UsJMM5VXFiZV",
    "outputId": "fd22d9ec-dbe8-441e-fe01-49f41c470109"
   },
   "outputs": [
    {
     "data": {
      "text/html": [
       "<div>\n",
       "<style scoped>\n",
       "    .dataframe tbody tr th:only-of-type {\n",
       "        vertical-align: middle;\n",
       "    }\n",
       "\n",
       "    .dataframe tbody tr th {\n",
       "        vertical-align: top;\n",
       "    }\n",
       "\n",
       "    .dataframe thead th {\n",
       "        text-align: right;\n",
       "    }\n",
       "</style>\n",
       "<table border=\"1\" class=\"dataframe\">\n",
       "  <thead>\n",
       "    <tr style=\"text-align: right;\">\n",
       "      <th></th>\n",
       "      <th>Name</th>\n",
       "      <th>Description</th>\n",
       "      <th>geometry</th>\n",
       "      <th>Name (in list)</th>\n",
       "      <th>Doubt?</th>\n",
       "    </tr>\n",
       "  </thead>\n",
       "  <tbody>\n",
       "    <tr>\n",
       "      <th>0</th>\n",
       "      <td>Adab (Bismaya)</td>\n",
       "      <td></td>\n",
       "      <td>POINT Z (45.62386 31.95071 0.00000)</td>\n",
       "      <td>[Bismaya, Adab ]</td>\n",
       "      <td>False</td>\n",
       "    </tr>\n",
       "    <tr>\n",
       "      <th>1</th>\n",
       "      <td>Abydos</td>\n",
       "      <td></td>\n",
       "      <td>POINT Z (31.91906 26.18509 0.00000)</td>\n",
       "      <td>[Abydos]</td>\n",
       "      <td>False</td>\n",
       "    </tr>\n",
       "    <tr>\n",
       "      <th>2</th>\n",
       "      <td>Adamdun? (Teppe Surkhehgan)</td>\n",
       "      <td></td>\n",
       "      <td>POINT Z (48.79814 32.02168 0.00000)</td>\n",
       "      <td>[Teppe Surkhehgan, Adamdun ]</td>\n",
       "      <td>True</td>\n",
       "    </tr>\n",
       "    <tr>\n",
       "      <th>3</th>\n",
       "      <td>Admannu / Natmane (Tell 'Ali)</td>\n",
       "      <td></td>\n",
       "      <td>POINT Z (43.68200 35.38198 0.00000)</td>\n",
       "      <td>[Tell 'Ali, Admannu ,  Natmane ]</td>\n",
       "      <td>False</td>\n",
       "    </tr>\n",
       "    <tr>\n",
       "      <th>4</th>\n",
       "      <td>Adumatu? (Dumat el-Jandal)</td>\n",
       "      <td></td>\n",
       "      <td>POINT Z (39.86723 29.81135 0.00000)</td>\n",
       "      <td>[Dumat el-Jandal, Adumatu ]</td>\n",
       "      <td>True</td>\n",
       "    </tr>\n",
       "  </tbody>\n",
       "</table>\n",
       "</div>"
      ],
      "text/plain": [
       "                            Name  ... Doubt?\n",
       "0                 Adab (Bismaya)  ...  False\n",
       "1                         Abydos  ...  False\n",
       "2    Adamdun? (Teppe Surkhehgan)  ...   True\n",
       "3  Admannu / Natmane (Tell 'Ali)  ...  False\n",
       "4     Adumatu? (Dumat el-Jandal)  ...   True\n",
       "\n",
       "[5 rows x 5 columns]"
      ]
     },
     "execution_count": 18,
     "metadata": {
      "tags": []
     },
     "output_type": "execute_result"
    }
   ],
   "source": [
    "location[\"Doubt?\"] = location[\"Name\"].map(lambda string: '?' in string)\n",
    "location.head()"
   ]
  },
  {
   "cell_type": "markdown",
   "id": "e536d5bb",
   "metadata": {
    "id": "tZubflNhGBhg"
   },
   "source": [
    "Now expand `location` into one name for each row."
   ]
  },
  {
   "cell_type": "code",
   "execution_count": null,
   "id": "bcc1210a",
   "metadata": {
    "colab": {
     "base_uri": "https://localhost:8080/",
     "height": 195
    },
    "id": "gcBlIVJZGI7H",
    "outputId": "6375685d-4cc1-4119-f6ef-1b7d07ac0288"
   },
   "outputs": [
    {
     "data": {
      "text/html": [
       "<div>\n",
       "<style scoped>\n",
       "    .dataframe tbody tr th:only-of-type {\n",
       "        vertical-align: middle;\n",
       "    }\n",
       "\n",
       "    .dataframe tbody tr th {\n",
       "        vertical-align: top;\n",
       "    }\n",
       "\n",
       "    .dataframe thead th {\n",
       "        text-align: right;\n",
       "    }\n",
       "</style>\n",
       "<table border=\"1\" class=\"dataframe\">\n",
       "  <thead>\n",
       "    <tr style=\"text-align: right;\">\n",
       "      <th></th>\n",
       "      <th>Name</th>\n",
       "      <th>Description</th>\n",
       "      <th>geometry</th>\n",
       "      <th>Name (in list)</th>\n",
       "      <th>Doubt?</th>\n",
       "    </tr>\n",
       "  </thead>\n",
       "  <tbody>\n",
       "    <tr>\n",
       "      <th>0</th>\n",
       "      <td>Adab (Bismaya)</td>\n",
       "      <td></td>\n",
       "      <td>POINT Z (45.62386 31.95071 0.00000)</td>\n",
       "      <td>Bismaya</td>\n",
       "      <td>False</td>\n",
       "    </tr>\n",
       "    <tr>\n",
       "      <th>0</th>\n",
       "      <td>Adab (Bismaya)</td>\n",
       "      <td></td>\n",
       "      <td>POINT Z (45.62386 31.95071 0.00000)</td>\n",
       "      <td>Adab</td>\n",
       "      <td>False</td>\n",
       "    </tr>\n",
       "    <tr>\n",
       "      <th>1</th>\n",
       "      <td>Abydos</td>\n",
       "      <td></td>\n",
       "      <td>POINT Z (31.91906 26.18509 0.00000)</td>\n",
       "      <td>Abydos</td>\n",
       "      <td>False</td>\n",
       "    </tr>\n",
       "    <tr>\n",
       "      <th>2</th>\n",
       "      <td>Adamdun? (Teppe Surkhehgan)</td>\n",
       "      <td></td>\n",
       "      <td>POINT Z (48.79814 32.02168 0.00000)</td>\n",
       "      <td>Teppe Surkhehgan</td>\n",
       "      <td>True</td>\n",
       "    </tr>\n",
       "    <tr>\n",
       "      <th>2</th>\n",
       "      <td>Adamdun? (Teppe Surkhehgan)</td>\n",
       "      <td></td>\n",
       "      <td>POINT Z (48.79814 32.02168 0.00000)</td>\n",
       "      <td>Adamdun</td>\n",
       "      <td>True</td>\n",
       "    </tr>\n",
       "  </tbody>\n",
       "</table>\n",
       "</div>"
      ],
      "text/plain": [
       "                          Name Description  ...    Name (in list) Doubt?\n",
       "0               Adab (Bismaya)              ...           Bismaya  False\n",
       "0               Adab (Bismaya)              ...             Adab   False\n",
       "1                       Abydos              ...            Abydos  False\n",
       "2  Adamdun? (Teppe Surkhehgan)              ...  Teppe Surkhehgan   True\n",
       "2  Adamdun? (Teppe Surkhehgan)              ...          Adamdun    True\n",
       "\n",
       "[5 rows x 5 columns]"
      ]
     },
     "execution_count": 19,
     "metadata": {
      "tags": []
     },
     "output_type": "execute_result"
    }
   ],
   "source": [
    "location_expanded = location.explode(\"Name (in list)\")\n",
    "location_expanded.head()"
   ]
  },
  {
   "cell_type": "markdown",
   "id": "d5b16472",
   "metadata": {
    "id": "7SttyaoMeZV4"
   },
   "source": [
    "Now we have 5856 places."
   ]
  },
  {
   "cell_type": "code",
   "execution_count": null,
   "id": "8ebf3075",
   "metadata": {
    "colab": {
     "base_uri": "https://localhost:8080/"
    },
    "id": "sr2ulfIrG5B7",
    "outputId": "0fa1a710-5e9c-4e33-e5cc-d5feacb8e6bc"
   },
   "outputs": [
    {
     "data": {
      "text/plain": [
       "(5856, 5)"
      ]
     },
     "execution_count": 20,
     "metadata": {
      "tags": []
     },
     "output_type": "execute_result"
    }
   ],
   "source": [
    "location_expanded.shape"
   ]
  },
  {
   "cell_type": "markdown",
   "id": "ba08e4d2",
   "metadata": {
    "id": "z8eB5JVRGzU9"
   },
   "source": [
    "Now we have both files (ANE file and our Drehem file) ready, we will match the geo names in these files. We will use the `fuzzywuzzy` library's `WRatio`, which is more tolerant to small differences like capitalization and punctuation. You can try different methods.\n",
    "\n",
    "Note that the matching takes a fairly long time (> 30 mins) to run."
   ]
  },
  {
   "cell_type": "code",
   "execution_count": null,
   "id": "33d6b4c9",
   "metadata": {
    "id": "DvvTifMTbkZK"
   },
   "outputs": [],
   "source": [
    "def fuzzy_search(geo_name):\n",
    "  scores = location_expanded['Name (in list)'].map(lambda name: fuzz.WRatio(geo_name, name))\n",
    "  \n",
    "  return list(location_expanded[scores>90]['Name'])"
   ]
  },
  {
   "cell_type": "code",
   "execution_count": null,
   "id": "2b0bae0b",
   "metadata": {
    "colab": {
     "base_uri": "https://localhost:8080/",
     "height": 402
    },
    "id": "VVahMN3BfF45",
    "outputId": "a5b88de8-8c0e-46a9-f9b9-6be9e540312c"
   },
   "outputs": [
    {
     "data": {
      "text/html": [
       "<div>\n",
       "<style scoped>\n",
       "    .dataframe tbody tr th:only-of-type {\n",
       "        vertical-align: middle;\n",
       "    }\n",
       "\n",
       "    .dataframe tbody tr th {\n",
       "        vertical-align: top;\n",
       "    }\n",
       "\n",
       "    .dataframe thead th {\n",
       "        text-align: right;\n",
       "    }\n",
       "</style>\n",
       "<table border=\"1\" class=\"dataframe\">\n",
       "  <thead>\n",
       "    <tr style=\"text-align: right;\">\n",
       "      <th></th>\n",
       "      <th>ip</th>\n",
       "      <th>geo_name</th>\n",
       "      <th>cleaned_geo_name</th>\n",
       "      <th>fuzzy_match</th>\n",
       "    </tr>\n",
       "  </thead>\n",
       "  <tbody>\n",
       "    <tr>\n",
       "      <th>9</th>\n",
       "      <td>P121982</td>\n",
       "      <td>Umma[1]SN</td>\n",
       "      <td>Umma</td>\n",
       "      <td>[Umma (Tell Jokha)]</td>\n",
       "    </tr>\n",
       "    <tr>\n",
       "      <th>16</th>\n",
       "      <td>P465780</td>\n",
       "      <td>Umma[1]SN</td>\n",
       "      <td>Umma</td>\n",
       "      <td>[Umma (Tell Jokha)]</td>\n",
       "    </tr>\n",
       "    <tr>\n",
       "      <th>19</th>\n",
       "      <td>P141679</td>\n",
       "      <td>Umma[1]SN</td>\n",
       "      <td>Umma</td>\n",
       "      <td>[Umma (Tell Jokha)]</td>\n",
       "    </tr>\n",
       "    <tr>\n",
       "      <th>27</th>\n",
       "      <td>P100676</td>\n",
       "      <td>Umma[1]SN</td>\n",
       "      <td>Umma</td>\n",
       "      <td>[Umma (Tell Jokha)]</td>\n",
       "    </tr>\n",
       "    <tr>\n",
       "      <th>56</th>\n",
       "      <td>P131594</td>\n",
       "      <td>Umma[1]SN</td>\n",
       "      <td>Umma</td>\n",
       "      <td>[Umma (Tell Jokha)]</td>\n",
       "    </tr>\n",
       "    <tr>\n",
       "      <th>...</th>\n",
       "      <td>...</td>\n",
       "      <td>...</td>\n",
       "      <td>...</td>\n",
       "      <td>...</td>\n",
       "    </tr>\n",
       "    <tr>\n",
       "      <th>20679</th>\n",
       "      <td>P136415</td>\n",
       "      <td>Lagaš[1]SN</td>\n",
       "      <td>Lagaš</td>\n",
       "      <td>[Lagaš (El-Hiba)]</td>\n",
       "    </tr>\n",
       "    <tr>\n",
       "      <th>20684</th>\n",
       "      <td>P122006</td>\n",
       "      <td>Umma[1]SN</td>\n",
       "      <td>Umma</td>\n",
       "      <td>[Umma (Tell Jokha)]</td>\n",
       "    </tr>\n",
       "    <tr>\n",
       "      <th>20686</th>\n",
       "      <td>P218142</td>\n",
       "      <td>Umma[1]SN</td>\n",
       "      <td>Umma</td>\n",
       "      <td>[Umma (Tell Jokha)]</td>\n",
       "    </tr>\n",
       "    <tr>\n",
       "      <th>20690</th>\n",
       "      <td>P322761</td>\n",
       "      <td>Zabalam[1]SN</td>\n",
       "      <td>Zabalam</td>\n",
       "      <td>[Zabalam (Tulul Ibzaikh)]</td>\n",
       "    </tr>\n",
       "    <tr>\n",
       "      <th>20697</th>\n",
       "      <td>P378821</td>\n",
       "      <td>Isin[1]SN</td>\n",
       "      <td>Isin</td>\n",
       "      <td>[Isin (Ishan Bahriyat)]</td>\n",
       "    </tr>\n",
       "  </tbody>\n",
       "</table>\n",
       "<p>3802 rows × 4 columns</p>\n",
       "</div>"
      ],
      "text/plain": [
       "            ip      geo_name cleaned_geo_name                fuzzy_match\n",
       "9      P121982     Umma[1]SN             Umma        [Umma (Tell Jokha)]\n",
       "16     P465780     Umma[1]SN             Umma        [Umma (Tell Jokha)]\n",
       "19     P141679     Umma[1]SN             Umma        [Umma (Tell Jokha)]\n",
       "27     P100676     Umma[1]SN             Umma        [Umma (Tell Jokha)]\n",
       "56     P131594     Umma[1]SN             Umma        [Umma (Tell Jokha)]\n",
       "...        ...           ...              ...                        ...\n",
       "20679  P136415    Lagaš[1]SN            Lagaš          [Lagaš (El-Hiba)]\n",
       "20684  P122006     Umma[1]SN             Umma        [Umma (Tell Jokha)]\n",
       "20686  P218142     Umma[1]SN             Umma        [Umma (Tell Jokha)]\n",
       "20690  P322761  Zabalam[1]SN          Zabalam  [Zabalam (Tulul Ibzaikh)]\n",
       "20697  P378821     Isin[1]SN             Isin    [Isin (Ishan Bahriyat)]\n",
       "\n",
       "[3802 rows x 4 columns]"
      ]
     },
     "execution_count": 22,
     "metadata": {
      "tags": []
     },
     "output_type": "execute_result"
    }
   ],
   "source": [
    "non_emp_geo['fuzzy_match'] = non_emp_geo['cleaned_geo_name'].map(fuzzy_search)\n",
    "non_emp_geo[non_emp_geo['fuzzy_match'].map(len)>0]"
   ]
  },
  {
   "cell_type": "markdown",
   "id": "85ef0b0f",
   "metadata": {
    "id": "-xFtPgd8fNBi"
   },
   "source": [
    "If we set the matching score threshold to 90, we got 37 unique matches."
   ]
  },
  {
   "cell_type": "code",
   "execution_count": null,
   "id": "b969e222",
   "metadata": {
    "colab": {
     "base_uri": "https://localhost:8080/",
     "height": 195
    },
    "id": "zrX_hXf4AV4u",
    "outputId": "b86797db-f138-484f-9794-727dfb09c8c2"
   },
   "outputs": [
    {
     "data": {
      "text/html": [
       "<div>\n",
       "<style scoped>\n",
       "    .dataframe tbody tr th:only-of-type {\n",
       "        vertical-align: middle;\n",
       "    }\n",
       "\n",
       "    .dataframe tbody tr th {\n",
       "        vertical-align: top;\n",
       "    }\n",
       "\n",
       "    .dataframe thead th {\n",
       "        text-align: right;\n",
       "    }\n",
       "</style>\n",
       "<table border=\"1\" class=\"dataframe\">\n",
       "  <thead>\n",
       "    <tr style=\"text-align: right;\">\n",
       "      <th></th>\n",
       "      <th>ip</th>\n",
       "      <th>geo_name</th>\n",
       "      <th>cleaned_geo_name</th>\n",
       "      <th>fuzzy_match</th>\n",
       "    </tr>\n",
       "  </thead>\n",
       "  <tbody>\n",
       "    <tr>\n",
       "      <th>0</th>\n",
       "      <td>P121982</td>\n",
       "      <td>Umma[1]SN</td>\n",
       "      <td>Umma</td>\n",
       "      <td>[Umma (Tell Jokha)]</td>\n",
       "    </tr>\n",
       "    <tr>\n",
       "      <th>1</th>\n",
       "      <td>P136601</td>\n",
       "      <td>Isin[1]SN</td>\n",
       "      <td>Isin</td>\n",
       "      <td>[Isin (Ishan Bahriyat)]</td>\n",
       "    </tr>\n",
       "    <tr>\n",
       "      <th>2</th>\n",
       "      <td>P110363</td>\n",
       "      <td>Anšan[1]SN</td>\n",
       "      <td>Anšan</td>\n",
       "      <td>[Anšan (Tell Malyan)]</td>\n",
       "    </tr>\n",
       "    <tr>\n",
       "      <th>3</th>\n",
       "      <td>P324788</td>\n",
       "      <td>Zabalam[1]SN</td>\n",
       "      <td>Zabalam</td>\n",
       "      <td>[Zabalam (Tulul Ibzaikh)]</td>\n",
       "    </tr>\n",
       "    <tr>\n",
       "      <th>4</th>\n",
       "      <td>P118180</td>\n",
       "      <td>Eridug[1]SN</td>\n",
       "      <td>Eridug</td>\n",
       "      <td>[Eridu (Tell Abu Shahrain)]</td>\n",
       "    </tr>\n",
       "  </tbody>\n",
       "</table>\n",
       "</div>"
      ],
      "text/plain": [
       "        ip      geo_name cleaned_geo_name                  fuzzy_match\n",
       "0  P121982     Umma[1]SN             Umma          [Umma (Tell Jokha)]\n",
       "1  P136601     Isin[1]SN             Isin      [Isin (Ishan Bahriyat)]\n",
       "2  P110363    Anšan[1]SN            Anšan        [Anšan (Tell Malyan)]\n",
       "3  P324788  Zabalam[1]SN          Zabalam    [Zabalam (Tulul Ibzaikh)]\n",
       "4  P118180   Eridug[1]SN           Eridug  [Eridu (Tell Abu Shahrain)]"
      ]
     },
     "execution_count": 27,
     "metadata": {
      "tags": []
     },
     "output_type": "execute_result"
    }
   ],
   "source": [
    "matches = non_emp_geo[non_emp_geo['fuzzy_match'].map(len)>0]\n",
    "unique_matches = matches.drop_duplicates('geo_name').reset_index(drop=True)\n",
    "# unique_matches = matched['cleaned_geo_name'].unique()\n",
    "unique_matches.head()"
   ]
  },
  {
   "cell_type": "code",
   "execution_count": null,
   "id": "bc903809",
   "metadata": {
    "colab": {
     "base_uri": "https://localhost:8080/",
     "height": 195
    },
    "id": "1KunnjaOnc6R",
    "outputId": "586fb3ed-e5b1-4ee3-9347-25e2da5752c7"
   },
   "outputs": [
    {
     "data": {
      "text/html": [
       "<div>\n",
       "<style scoped>\n",
       "    .dataframe tbody tr th:only-of-type {\n",
       "        vertical-align: middle;\n",
       "    }\n",
       "\n",
       "    .dataframe tbody tr th {\n",
       "        vertical-align: top;\n",
       "    }\n",
       "\n",
       "    .dataframe thead th {\n",
       "        text-align: right;\n",
       "    }\n",
       "</style>\n",
       "<table border=\"1\" class=\"dataframe\">\n",
       "  <thead>\n",
       "    <tr style=\"text-align: right;\">\n",
       "      <th></th>\n",
       "      <th>ip</th>\n",
       "      <th>geo_name</th>\n",
       "      <th>cleaned_geo_name</th>\n",
       "      <th>fuzzy_match</th>\n",
       "    </tr>\n",
       "  </thead>\n",
       "  <tbody>\n",
       "    <tr>\n",
       "      <th>0</th>\n",
       "      <td>P121982</td>\n",
       "      <td>Umma[1]SN</td>\n",
       "      <td>Umma</td>\n",
       "      <td>Umma (Tell Jokha)</td>\n",
       "    </tr>\n",
       "    <tr>\n",
       "      <th>1</th>\n",
       "      <td>P136601</td>\n",
       "      <td>Isin[1]SN</td>\n",
       "      <td>Isin</td>\n",
       "      <td>Isin (Ishan Bahriyat)</td>\n",
       "    </tr>\n",
       "    <tr>\n",
       "      <th>2</th>\n",
       "      <td>P110363</td>\n",
       "      <td>Anšan[1]SN</td>\n",
       "      <td>Anšan</td>\n",
       "      <td>Anšan (Tell Malyan)</td>\n",
       "    </tr>\n",
       "    <tr>\n",
       "      <th>3</th>\n",
       "      <td>P324788</td>\n",
       "      <td>Zabalam[1]SN</td>\n",
       "      <td>Zabalam</td>\n",
       "      <td>Zabalam (Tulul Ibzaikh)</td>\n",
       "    </tr>\n",
       "    <tr>\n",
       "      <th>4</th>\n",
       "      <td>P118180</td>\n",
       "      <td>Eridug[1]SN</td>\n",
       "      <td>Eridug</td>\n",
       "      <td>Eridu (Tell Abu Shahrain)</td>\n",
       "    </tr>\n",
       "  </tbody>\n",
       "</table>\n",
       "</div>"
      ],
      "text/plain": [
       "        ip      geo_name cleaned_geo_name                fuzzy_match\n",
       "0  P121982     Umma[1]SN             Umma          Umma (Tell Jokha)\n",
       "1  P136601     Isin[1]SN             Isin      Isin (Ishan Bahriyat)\n",
       "2  P110363    Anšan[1]SN            Anšan        Anšan (Tell Malyan)\n",
       "3  P324788  Zabalam[1]SN          Zabalam    Zabalam (Tulul Ibzaikh)\n",
       "4  P118180   Eridug[1]SN           Eridug  Eridu (Tell Abu Shahrain)"
      ]
     },
     "execution_count": 31,
     "metadata": {
      "tags": []
     },
     "output_type": "execute_result"
    }
   ],
   "source": [
    "unique_matches['fuzzy_match'] = unique_matches['fuzzy_match'].map(lambda l: l[0])\n",
    "unique_matches.head()"
   ]
  },
  {
   "cell_type": "markdown",
   "id": "e9222ab4",
   "metadata": {
    "id": "hr7bJJEBgM8i"
   },
   "source": [
    "Here we saved the matches to drive so we can reuse it later."
   ]
  },
  {
   "cell_type": "code",
   "execution_count": null,
   "id": "31ee83e8",
   "metadata": {
    "id": "xlQ4P1-2xEGO"
   },
   "outputs": [],
   "source": [
    "non_emp_geo.to_csv(\"JupyterBook/jupyter_collection/04_Geographic_Names/working files/non_emp_geo.csv\")"
   ]
  },
  {
   "cell_type": "markdown",
   "id": "e63fd0fc",
   "metadata": {
    "id": "jVvl5UJZ0W7X"
   },
   "source": [
    "Now we try to set the score to be > 87.5. Note the following cell also runs a fairly long time."
   ]
  },
  {
   "cell_type": "code",
   "execution_count": null,
   "id": "e6225919",
   "metadata": {
    "id": "KqDUGv0ycU5r"
   },
   "outputs": [],
   "source": [
    "def fuzzy_search_875(geo_name):\n",
    "  scores = location_expanded['Name (in list)'].map(lambda name: fuzz.WRatio(geo_name, name))\n",
    "  \n",
    "  return list(location_expanded[scores>87.5]['Name'])"
   ]
  },
  {
   "cell_type": "code",
   "execution_count": null,
   "id": "8118094e",
   "metadata": {
    "id": "vmGbs0CA1uTz"
   },
   "outputs": [],
   "source": [
    "non_emp_geo = pd.read_csv(\"JupyterBook/jupyter_collection/04_Geographic_Names/working files/non_emp_geo.csv\")\n",
    "non_emp_geo['fuzzy_match_875'] = non_emp_geo['cleaned_geo_name'].map(fuzzy_search_875)\n",
    "non_emp_geo[non_emp_geo['fuzzy_match_875'].map(len)>0]"
   ]
  },
  {
   "cell_type": "markdown",
   "id": "94ba166c",
   "metadata": {
    "id": "Px5sO_GpfjMh"
   },
   "source": [
    "We got more matches, but some of them are not what we want."
   ]
  },
  {
   "cell_type": "code",
   "execution_count": null,
   "id": "fcddc35d",
   "metadata": {
    "id": "lfFK-DA2Elcf"
   },
   "outputs": [],
   "source": [
    "non_emp_geo[non_emp_geo['fuzzy_match_875'].map(len)>0][\"cleaned_geo_name\"].unique()"
   ]
  },
  {
   "cell_type": "markdown",
   "id": "172a0825",
   "metadata": {
    "id": "NZdrlufzfpFK"
   },
   "source": [
    "We can see the subset of places which are not in the 33 matches with scores greater than 90 but are in matches with scores greater than 87.5. We can see some of them are not the same place, but there are places we missed in the 33."
   ]
  },
  {
   "cell_type": "code",
   "execution_count": null,
   "id": "0aa968e8",
   "metadata": {
    "id": "ifJ7bXMXEsSJ"
   },
   "outputs": [],
   "source": [
    "in875_notin_90 = non_emp_geo[(non_emp_geo['fuzzy_match'].map(len)==2)&(non_emp_geo['fuzzy_match_875'].map(len)>0)]\n",
    "in875_notin_90.head(50)"
   ]
  },
  {
   "cell_type": "code",
   "execution_count": null,
   "id": "78cad25a",
   "metadata": {
    "id": "hcE2Cf06FkZA"
   },
   "outputs": [],
   "source": [
    "in875_notin_90[in875_notin_90[\"fuzzy_match_875\"].map(lambda lst: any([s.find('Adamdun') != -1 for s in lst]))]"
   ]
  },
  {
   "cell_type": "markdown",
   "id": "88f84061",
   "metadata": {
    "id": "BovhCHdHgWCn"
   },
   "source": [
    "Since manually going over the names takes a lot of time and labor, we will focus on the 33 good matches at this time."
   ]
  },
  {
   "cell_type": "markdown",
   "id": "407872fe",
   "metadata": {
    "id": "ShSIr0DPhXIQ"
   },
   "source": [
    "Here we will add the coordinate information to the matched locations."
   ]
  },
  {
   "cell_type": "code",
   "execution_count": null,
   "id": "9837eeaf",
   "metadata": {
    "id": "J_YGXX3mnUNC"
   },
   "outputs": [],
   "source": [
    "def add_coordinates(str):\n",
    "    s = location[location[\"Name\"]==str]['geometry']\n",
    "    if len(s) > 0:\n",
    "        return s.iloc[0]\n",
    "    else:\n",
    "        return None\n",
    "\n",
    "unique_matches['coordinates'] = unique_matches[\"fuzzy_match\"].map(add_coordinates)\n",
    "unique_matches = unique_matches.dropna().reset_index(drop=True)"
   ]
  },
  {
   "cell_type": "code",
   "execution_count": null,
   "id": "1a77336c",
   "metadata": {
    "colab": {
     "base_uri": "https://localhost:8080/",
     "height": 195
    },
    "id": "iIrd34kioE2m",
    "outputId": "c894a545-ac5e-4dab-b4f2-ed3d0f0e6720"
   },
   "outputs": [
    {
     "data": {
      "text/html": [
       "<div>\n",
       "<style scoped>\n",
       "    .dataframe tbody tr th:only-of-type {\n",
       "        vertical-align: middle;\n",
       "    }\n",
       "\n",
       "    .dataframe tbody tr th {\n",
       "        vertical-align: top;\n",
       "    }\n",
       "\n",
       "    .dataframe thead th {\n",
       "        text-align: right;\n",
       "    }\n",
       "</style>\n",
       "<table border=\"1\" class=\"dataframe\">\n",
       "  <thead>\n",
       "    <tr style=\"text-align: right;\">\n",
       "      <th></th>\n",
       "      <th>ip</th>\n",
       "      <th>geo_name</th>\n",
       "      <th>cleaned_geo_name</th>\n",
       "      <th>fuzzy_match</th>\n",
       "      <th>coordinates</th>\n",
       "    </tr>\n",
       "  </thead>\n",
       "  <tbody>\n",
       "    <tr>\n",
       "      <th>0</th>\n",
       "      <td>P121982</td>\n",
       "      <td>Umma[1]SN</td>\n",
       "      <td>Umma</td>\n",
       "      <td>Umma (Tell Jokha)</td>\n",
       "      <td>POINT Z (45.88767609164621 31.66743001625768 0)</td>\n",
       "    </tr>\n",
       "    <tr>\n",
       "      <th>1</th>\n",
       "      <td>P136601</td>\n",
       "      <td>Isin[1]SN</td>\n",
       "      <td>Isin</td>\n",
       "      <td>Isin (Ishan Bahriyat)</td>\n",
       "      <td>POINT Z (45.26937063450065 31.88437701508951 0)</td>\n",
       "    </tr>\n",
       "    <tr>\n",
       "      <th>2</th>\n",
       "      <td>P110363</td>\n",
       "      <td>Anšan[1]SN</td>\n",
       "      <td>Anšan</td>\n",
       "      <td>Anšan (Tell Malyan)</td>\n",
       "      <td>POINT Z (52.41066812180781 30.01111323889061 0)</td>\n",
       "    </tr>\n",
       "    <tr>\n",
       "      <th>3</th>\n",
       "      <td>P324788</td>\n",
       "      <td>Zabalam[1]SN</td>\n",
       "      <td>Zabalam</td>\n",
       "      <td>Zabalam (Tulul Ibzaikh)</td>\n",
       "      <td>POINT Z (45.87575461093311 31.74472924832169 0)</td>\n",
       "    </tr>\n",
       "    <tr>\n",
       "      <th>4</th>\n",
       "      <td>P118180</td>\n",
       "      <td>Eridug[1]SN</td>\n",
       "      <td>Eridug</td>\n",
       "      <td>Eridu (Tell Abu Shahrain)</td>\n",
       "      <td>POINT Z (45.99672447851623 30.81686971277664 0)</td>\n",
       "    </tr>\n",
       "  </tbody>\n",
       "</table>\n",
       "</div>"
      ],
      "text/plain": [
       "        ip  ...                                      coordinates\n",
       "0  P121982  ...  POINT Z (45.88767609164621 31.66743001625768 0)\n",
       "1  P136601  ...  POINT Z (45.26937063450065 31.88437701508951 0)\n",
       "2  P110363  ...  POINT Z (52.41066812180781 30.01111323889061 0)\n",
       "3  P324788  ...  POINT Z (45.87575461093311 31.74472924832169 0)\n",
       "4  P118180  ...  POINT Z (45.99672447851623 30.81686971277664 0)\n",
       "\n",
       "[5 rows x 5 columns]"
      ]
     },
     "execution_count": 33,
     "metadata": {
      "tags": []
     },
     "output_type": "execute_result"
    }
   ],
   "source": [
    "unique_matches.head()"
   ]
  },
  {
   "cell_type": "markdown",
   "id": "fc1a79bb",
   "metadata": {
    "id": "fhCa6JC_r9es"
   },
   "source": [
    "Now we will use NetworkX to plot the locations in a graph. We have a few additional libraries to install and import."
   ]
  },
  {
   "cell_type": "code",
   "execution_count": null,
   "id": "36e5da01",
   "metadata": {
    "colab": {
     "base_uri": "https://localhost:8080/"
    },
    "id": "41puBKObswwi",
    "outputId": "71e8c5c7-a31a-4a2a-e1ac-e6dcf6d173ec"
   },
   "outputs": [
    {
     "name": "stdout",
     "output_type": "stream",
     "text": [
      "Requirement already satisfied: contextily in /usr/local/lib/python3.7/dist-packages (1.1.0)\n",
      "Requirement already satisfied: joblib in /usr/local/lib/python3.7/dist-packages (from contextily) (1.0.1)\n",
      "Requirement already satisfied: requests in /usr/local/lib/python3.7/dist-packages (from contextily) (2.23.0)\n",
      "Requirement already satisfied: pillow in /usr/local/lib/python3.7/dist-packages (from contextily) (7.1.2)\n",
      "Requirement already satisfied: matplotlib in /usr/local/lib/python3.7/dist-packages (from contextily) (3.2.2)\n",
      "Requirement already satisfied: mercantile in /usr/local/lib/python3.7/dist-packages (from contextily) (1.2.1)\n",
      "Requirement already satisfied: rasterio in /usr/local/lib/python3.7/dist-packages (from contextily) (1.2.3)\n",
      "Requirement already satisfied: geopy in /usr/local/lib/python3.7/dist-packages (from contextily) (1.17.0)\n",
      "Requirement already satisfied: certifi>=2017.4.17 in /usr/local/lib/python3.7/dist-packages (from requests->contextily) (2020.12.5)\n",
      "Requirement already satisfied: chardet<4,>=3.0.2 in /usr/local/lib/python3.7/dist-packages (from requests->contextily) (3.0.4)\n",
      "Requirement already satisfied: urllib3!=1.25.0,!=1.25.1,<1.26,>=1.21.1 in /usr/local/lib/python3.7/dist-packages (from requests->contextily) (1.25.11)\n",
      "Requirement already satisfied: idna<3,>=2.5 in /usr/local/lib/python3.7/dist-packages (from requests->contextily) (2.10)\n",
      "Requirement already satisfied: numpy>=1.11 in /usr/local/lib/python3.7/dist-packages (from matplotlib->contextily) (1.19.5)\n",
      "Requirement already satisfied: pyparsing!=2.0.4,!=2.1.2,!=2.1.6,>=2.0.1 in /usr/local/lib/python3.7/dist-packages (from matplotlib->contextily) (2.4.7)\n",
      "Requirement already satisfied: kiwisolver>=1.0.1 in /usr/local/lib/python3.7/dist-packages (from matplotlib->contextily) (1.3.1)\n",
      "Requirement already satisfied: python-dateutil>=2.1 in /usr/local/lib/python3.7/dist-packages (from matplotlib->contextily) (2.8.0)\n",
      "Requirement already satisfied: cycler>=0.10 in /usr/local/lib/python3.7/dist-packages (from matplotlib->contextily) (0.10.0)\n",
      "Requirement already satisfied: click>=3.0 in /usr/local/lib/python3.7/dist-packages (from mercantile->contextily) (7.1.2)\n",
      "Requirement already satisfied: cligj>=0.5 in /usr/local/lib/python3.7/dist-packages (from rasterio->contextily) (0.7.1)\n",
      "Requirement already satisfied: affine in /usr/local/lib/python3.7/dist-packages (from rasterio->contextily) (2.3.0)\n",
      "Requirement already satisfied: snuggs>=1.4.1 in /usr/local/lib/python3.7/dist-packages (from rasterio->contextily) (1.4.7)\n",
      "Requirement already satisfied: click-plugins in /usr/local/lib/python3.7/dist-packages (from rasterio->contextily) (1.1.1)\n",
      "Requirement already satisfied: attrs in /usr/local/lib/python3.7/dist-packages (from rasterio->contextily) (21.2.0)\n",
      "Requirement already satisfied: geographiclib<2,>=1.49 in /usr/local/lib/python3.7/dist-packages (from geopy->contextily) (1.50)\n",
      "Requirement already satisfied: six>=1.5 in /usr/local/lib/python3.7/dist-packages (from python-dateutil>=2.1->matplotlib->contextily) (1.15.0)\n",
      "Requirement already satisfied: cartopy in /usr/local/lib/python3.7/dist-packages (0.19.0.post1)\n",
      "Requirement already satisfied: pyshp>=2 in /usr/local/lib/python3.7/dist-packages (from cartopy) (2.1.3)\n",
      "Requirement already satisfied: shapely>=1.5.6 in /usr/local/lib/python3.7/dist-packages (from cartopy) (1.7.1)\n",
      "Requirement already satisfied: numpy>=1.13.3 in /usr/local/lib/python3.7/dist-packages (from cartopy) (1.19.5)\n",
      "Uninstalling Shapely-1.7.1:\n",
      "  Would remove:\n",
      "    /usr/local/lib/python3.7/dist-packages/Shapely-1.7.1-py3.7.egg-info\n",
      "    /usr/local/lib/python3.7/dist-packages/shapely/*\n",
      "Proceed (y/n)? y\n",
      "  Successfully uninstalled Shapely-1.7.1\n",
      "Collecting shapely\n",
      "  Using cached https://files.pythonhosted.org/packages/42/f3/0e1bc2c4f15e05e30c6b99322b9ddaa2babb3f43bc7df2698efdc1553439/Shapely-1.7.1.tar.gz\n",
      "Skipping wheel build for shapely, due to binaries being disabled for it.\n",
      "\u001b[31mERROR: albumentations 0.1.12 has requirement imgaug<0.2.7,>=0.2.5, but you'll have imgaug 0.2.9 which is incompatible.\u001b[0m\n",
      "Installing collected packages: shapely\n",
      "    Running setup.py install for shapely ... \u001b[?25l\u001b[?25hdone\n",
      "Successfully installed shapely-1.7.1\n"
     ]
    }
   ],
   "source": [
    "\n",
    "!pip install contextily\n",
    "!pip install cartopy\n",
    "!pip uninstall shapely\n",
    "!pip install shapely --no-binary shapely"
   ]
  },
  {
   "cell_type": "code",
   "execution_count": null,
   "id": "6c4010a2",
   "metadata": {
    "colab": {
     "base_uri": "https://localhost:8080/"
    },
    "id": "InoTNbXmstbq",
    "outputId": "4df11d1e-7547-4d36-da47-f67ee0dd23c9"
   },
   "outputs": [
    {
     "name": "stderr",
     "output_type": "stream",
     "text": [
      "/usr/local/lib/python3.7/dist-packages/geopandas/_compat.py:110: UserWarning: The Shapely GEOS version (3.6.2-CAPI-1.10.2 4d2925d6) is incompatible with the GEOS version PyGEOS was compiled with (3.9.1-CAPI-1.14.2). Conversions between both will be slow.\n",
      "  shapely_geos_version, geos_capi_version_string\n"
     ]
    }
   ],
   "source": [
    "from libpysal import weights, examples\n",
    "from contextily import add_basemap\n",
    "import matplotlib.pyplot as plt\n",
    "import networkx as nx\n",
    "import cartopy.crs as ccrs\n",
    "import matplotlib.pyplot as plt\n",
    "import cartopy"
   ]
  },
  {
   "cell_type": "markdown",
   "id": "ab243407",
   "metadata": {
    "id": "bG-AO9L6jnc5"
   },
   "source": [
    "GeoPandas dataframe requires a `geometry` attribute, we construct `geo_um`."
   ]
  },
  {
   "cell_type": "code",
   "execution_count": null,
   "id": "8ffccc4b",
   "metadata": {
    "id": "unMYsZOTr-8G"
   },
   "outputs": [],
   "source": [
    "coordinates = np.column_stack((unique_matches[\"coordinates\"].map(lambda p: p.x), unique_matches[\"coordinates\"].map(lambda p: p.y)))"
   ]
  },
  {
   "cell_type": "code",
   "execution_count": null,
   "id": "e097c64c",
   "metadata": {
    "colab": {
     "base_uri": "https://localhost:8080/",
     "height": 195
    },
    "id": "UiR5wZFbsOg5",
    "outputId": "d62b6436-c034-4575-9ffa-7de3be842450"
   },
   "outputs": [
    {
     "data": {
      "text/html": [
       "<div>\n",
       "<style scoped>\n",
       "    .dataframe tbody tr th:only-of-type {\n",
       "        vertical-align: middle;\n",
       "    }\n",
       "\n",
       "    .dataframe tbody tr th {\n",
       "        vertical-align: top;\n",
       "    }\n",
       "\n",
       "    .dataframe thead th {\n",
       "        text-align: right;\n",
       "    }\n",
       "</style>\n",
       "<table border=\"1\" class=\"dataframe\">\n",
       "  <thead>\n",
       "    <tr style=\"text-align: right;\">\n",
       "      <th></th>\n",
       "      <th>ip</th>\n",
       "      <th>geo_name</th>\n",
       "      <th>cleaned_geo_name</th>\n",
       "      <th>fuzzy_match</th>\n",
       "      <th>coordinates</th>\n",
       "      <th>geometry</th>\n",
       "    </tr>\n",
       "  </thead>\n",
       "  <tbody>\n",
       "    <tr>\n",
       "      <th>0</th>\n",
       "      <td>P121982</td>\n",
       "      <td>Umma[1]SN</td>\n",
       "      <td>Umma</td>\n",
       "      <td>Umma (Tell Jokha)</td>\n",
       "      <td>POINT Z (45.88767609164621 31.66743001625768 0)</td>\n",
       "      <td>POINT Z (45.88768 31.66743 0.00000)</td>\n",
       "    </tr>\n",
       "    <tr>\n",
       "      <th>1</th>\n",
       "      <td>P136601</td>\n",
       "      <td>Isin[1]SN</td>\n",
       "      <td>Isin</td>\n",
       "      <td>Isin (Ishan Bahriyat)</td>\n",
       "      <td>POINT Z (45.26937063450065 31.88437701508951 0)</td>\n",
       "      <td>POINT Z (45.26937 31.88438 0.00000)</td>\n",
       "    </tr>\n",
       "    <tr>\n",
       "      <th>2</th>\n",
       "      <td>P110363</td>\n",
       "      <td>Anšan[1]SN</td>\n",
       "      <td>Anšan</td>\n",
       "      <td>Anšan (Tell Malyan)</td>\n",
       "      <td>POINT Z (52.41066812180781 30.01111323889061 0)</td>\n",
       "      <td>POINT Z (52.41067 30.01111 0.00000)</td>\n",
       "    </tr>\n",
       "    <tr>\n",
       "      <th>3</th>\n",
       "      <td>P324788</td>\n",
       "      <td>Zabalam[1]SN</td>\n",
       "      <td>Zabalam</td>\n",
       "      <td>Zabalam (Tulul Ibzaikh)</td>\n",
       "      <td>POINT Z (45.87575461093311 31.74472924832169 0)</td>\n",
       "      <td>POINT Z (45.87575 31.74473 0.00000)</td>\n",
       "    </tr>\n",
       "    <tr>\n",
       "      <th>4</th>\n",
       "      <td>P118180</td>\n",
       "      <td>Eridug[1]SN</td>\n",
       "      <td>Eridug</td>\n",
       "      <td>Eridu (Tell Abu Shahrain)</td>\n",
       "      <td>POINT Z (45.99672447851623 30.81686971277664 0)</td>\n",
       "      <td>POINT Z (45.99672 30.81687 0.00000)</td>\n",
       "    </tr>\n",
       "  </tbody>\n",
       "</table>\n",
       "</div>"
      ],
      "text/plain": [
       "        ip  ...                             geometry\n",
       "0  P121982  ...  POINT Z (45.88768 31.66743 0.00000)\n",
       "1  P136601  ...  POINT Z (45.26937 31.88438 0.00000)\n",
       "2  P110363  ...  POINT Z (52.41067 30.01111 0.00000)\n",
       "3  P324788  ...  POINT Z (45.87575 31.74473 0.00000)\n",
       "4  P118180  ...  POINT Z (45.99672 30.81687 0.00000)\n",
       "\n",
       "[5 rows x 6 columns]"
      ]
     },
     "execution_count": 37,
     "metadata": {
      "tags": []
     },
     "output_type": "execute_result"
    }
   ],
   "source": [
    "geo_um = gpd.GeoDataFrame(unique_matches, geometry = list(unique_matches['coordinates']))\n",
    "geo_um.head()"
   ]
  },
  {
   "cell_type": "markdown",
   "id": "e8d8ba67",
   "metadata": {
    "id": "6vs76EJNLRZn"
   },
   "source": [
    "We try to build connections using p-numbers: since the same geographic name can appear in multiple p-numbers, so we add an edge if two places appear in the same p-number. But unfortunately, we can't find two places appearing in the same p-number, so instead we plotted a fully connected graph."
   ]
  },
  {
   "cell_type": "code",
   "execution_count": null,
   "id": "372e671a",
   "metadata": {
    "colab": {
     "base_uri": "https://localhost:8080/",
     "height": 195
    },
    "id": "a5-QG37It5-4",
    "outputId": "cbe539cb-12e8-4451-e95f-e8e184970c5d"
   },
   "outputs": [
    {
     "data": {
      "text/html": [
       "<div>\n",
       "<style scoped>\n",
       "    .dataframe tbody tr th:only-of-type {\n",
       "        vertical-align: middle;\n",
       "    }\n",
       "\n",
       "    .dataframe tbody tr th {\n",
       "        vertical-align: top;\n",
       "    }\n",
       "\n",
       "    .dataframe thead th {\n",
       "        text-align: right;\n",
       "    }\n",
       "</style>\n",
       "<table border=\"1\" class=\"dataframe\">\n",
       "  <thead>\n",
       "    <tr style=\"text-align: right;\">\n",
       "      <th></th>\n",
       "      <th>ip</th>\n",
       "      <th>geo_name</th>\n",
       "      <th>cleaned_geo_name</th>\n",
       "      <th>fuzzy_match</th>\n",
       "    </tr>\n",
       "  </thead>\n",
       "  <tbody>\n",
       "    <tr>\n",
       "      <th>9</th>\n",
       "      <td>P121982</td>\n",
       "      <td>Umma[1]SN</td>\n",
       "      <td>Umma</td>\n",
       "      <td>[Umma (Tell Jokha)]</td>\n",
       "    </tr>\n",
       "    <tr>\n",
       "      <th>16</th>\n",
       "      <td>P465780</td>\n",
       "      <td>Umma[1]SN</td>\n",
       "      <td>Umma</td>\n",
       "      <td>[Umma (Tell Jokha)]</td>\n",
       "    </tr>\n",
       "    <tr>\n",
       "      <th>19</th>\n",
       "      <td>P141679</td>\n",
       "      <td>Umma[1]SN</td>\n",
       "      <td>Umma</td>\n",
       "      <td>[Umma (Tell Jokha)]</td>\n",
       "    </tr>\n",
       "    <tr>\n",
       "      <th>27</th>\n",
       "      <td>P100676</td>\n",
       "      <td>Umma[1]SN</td>\n",
       "      <td>Umma</td>\n",
       "      <td>[Umma (Tell Jokha)]</td>\n",
       "    </tr>\n",
       "    <tr>\n",
       "      <th>56</th>\n",
       "      <td>P131594</td>\n",
       "      <td>Umma[1]SN</td>\n",
       "      <td>Umma</td>\n",
       "      <td>[Umma (Tell Jokha)]</td>\n",
       "    </tr>\n",
       "  </tbody>\n",
       "</table>\n",
       "</div>"
      ],
      "text/plain": [
       "         ip   geo_name cleaned_geo_name          fuzzy_match\n",
       "9   P121982  Umma[1]SN             Umma  [Umma (Tell Jokha)]\n",
       "16  P465780  Umma[1]SN             Umma  [Umma (Tell Jokha)]\n",
       "19  P141679  Umma[1]SN             Umma  [Umma (Tell Jokha)]\n",
       "27  P100676  Umma[1]SN             Umma  [Umma (Tell Jokha)]\n",
       "56  P131594  Umma[1]SN             Umma  [Umma (Tell Jokha)]"
      ]
     },
     "execution_count": 38,
     "metadata": {
      "tags": []
     },
     "output_type": "execute_result"
    }
   ],
   "source": [
    "matches.head()"
   ]
  },
  {
   "cell_type": "code",
   "execution_count": null,
   "id": "ab6bcd2d",
   "metadata": {
    "colab": {
     "base_uri": "https://localhost:8080/",
     "height": 195
    },
    "id": "xbqxRkZhL3Dk",
    "outputId": "7f944f2f-f60f-4caf-ad28-f0f7ad8c0620"
   },
   "outputs": [
    {
     "data": {
      "text/html": [
       "<div>\n",
       "<style scoped>\n",
       "    .dataframe tbody tr th:only-of-type {\n",
       "        vertical-align: middle;\n",
       "    }\n",
       "\n",
       "    .dataframe tbody tr th {\n",
       "        vertical-align: top;\n",
       "    }\n",
       "\n",
       "    .dataframe thead th {\n",
       "        text-align: right;\n",
       "    }\n",
       "</style>\n",
       "<table border=\"1\" class=\"dataframe\">\n",
       "  <thead>\n",
       "    <tr style=\"text-align: right;\">\n",
       "      <th></th>\n",
       "      <th>cleaned_geo_name</th>\n",
       "      <th>pnum</th>\n",
       "    </tr>\n",
       "  </thead>\n",
       "  <tbody>\n",
       "    <tr>\n",
       "      <th>0</th>\n",
       "      <td>Adab</td>\n",
       "      <td>[P325875, P126986, P458586, P123317, P201858, ...</td>\n",
       "    </tr>\n",
       "    <tr>\n",
       "      <th>1</th>\n",
       "      <td>Anšan</td>\n",
       "      <td>[P110363, P356008, P113518, P406257, P131214, ...</td>\n",
       "    </tr>\n",
       "    <tr>\n",
       "      <th>2</th>\n",
       "      <td>Awal</td>\n",
       "      <td>[P107255, P145800, P126531, P107256, P112023]</td>\n",
       "    </tr>\n",
       "    <tr>\n",
       "      <th>3</th>\n",
       "      <td>Aššur</td>\n",
       "      <td>[P117479, P143751, P134727, P248907, P126176]</td>\n",
       "    </tr>\n",
       "    <tr>\n",
       "      <th>4</th>\n",
       "      <td>Babila</td>\n",
       "      <td>[P101457, P129473, P119451, P103818]</td>\n",
       "    </tr>\n",
       "  </tbody>\n",
       "</table>\n",
       "</div>"
      ],
      "text/plain": [
       "  cleaned_geo_name                                               pnum\n",
       "0             Adab  [P325875, P126986, P458586, P123317, P201858, ...\n",
       "1            Anšan  [P110363, P356008, P113518, P406257, P131214, ...\n",
       "2             Awal      [P107255, P145800, P126531, P107256, P112023]\n",
       "3            Aššur      [P117479, P143751, P134727, P248907, P126176]\n",
       "4           Babila               [P101457, P129473, P119451, P103818]"
      ]
     },
     "execution_count": 39,
     "metadata": {
      "tags": []
     },
     "output_type": "execute_result"
    }
   ],
   "source": [
    "name_pnum = matches.groupby(['cleaned_geo_name'])['ip'].apply(list).reset_index(name = 'pnum')\n",
    "name_pnum.head()"
   ]
  },
  {
   "cell_type": "code",
   "execution_count": null,
   "id": "867edbfd",
   "metadata": {
    "id": "MaPxPqraM8v4"
   },
   "outputs": [],
   "source": [
    "g = nx.Graph()\n",
    "\n",
    "#Add nodes to the graph\n",
    "for place in name_pnum['cleaned_geo_name']:\n",
    "  g.add_node(place)\n",
    "\n",
    "#Add edges\n",
    "num_edges = 0\n",
    "for place1 in name_pnum['cleaned_geo_name'].values:\n",
    "  for place2 in name_pnum['cleaned_geo_name'].values:\n",
    "    if place1 != place2:\n",
    "      weight = 1\n",
    "      # for pnum1 in name_pnum[name_pnum['cleaned_geo_name']==place1]['pnum'].values[0]:\n",
    "      #   for pnum2 in name_pnum[name_pnum['cleaned_geo_name']==place2]['pnum'].values[0]:\n",
    "      #     if pnum1 == pnum2:\n",
    "      #       weight += 1\n",
    "      #       num_edges += 1\n",
    "      g.add_edge(place1, place2)\n",
    "\n",
    "pos = {}\n",
    "for place in name_pnum['cleaned_geo_name'].values:\n",
    "  loc = unique_matches[unique_matches['cleaned_geo_name']==place][\"coordinates\"].values[0]\n",
    "  pos[place] = (loc.x, loc.y)"
   ]
  },
  {
   "cell_type": "code",
   "execution_count": null,
   "id": "6767701a",
   "metadata": {
    "id": "MlUwRmZyf8IS"
   },
   "outputs": [],
   "source": [
    "crs = ccrs.PlateCarree()\n",
    "fig, ax = plt.subplots(\n",
    "    1, 1, figsize=(12, 8), subplot_kw=dict(projection=crs))\n",
    "ax.add_feature(cartopy.feature.OCEAN)\n",
    "ax.add_feature(cartopy.feature.LAND, edgecolor='black')\n",
    "ax.add_feature(cartopy.feature.LAKES, edgecolor='black')\n",
    "ax.add_feature(cartopy.feature.RIVERS)\n",
    "ax.gridlines()\n",
    "# Extent of .\n",
    "ax.set_extent([30, 55, 25, 40])\n",
    "nx.draw_networkx(g, ax=ax,\n",
    "                 font_size=10,\n",
    "                 alpha=.8,\n",
    "                 width=.075,\n",
    "                 pos=pos,\n",
    "                 cmap=plt.cm.autumn)"
   ]
  },
  {
   "cell_type": "markdown",
   "id": "779bf21d",
   "metadata": {
    "id": "zWn-jpxbkc_E"
   },
   "source": [
    "We can zoom in a little to the area where we have a lot of known geo names (around Drehem)."
   ]
  },
  {
   "cell_type": "code",
   "execution_count": null,
   "id": "5341660a",
   "metadata": {
    "id": "qQPWTWSDrbOh"
   },
   "outputs": [],
   "source": [
    "crs = ccrs.PlateCarree()\n",
    "fig, ax = plt.subplots(\n",
    "    1, 1, figsize=(12, 8), subplot_kw=dict(projection=crs))\n",
    "ax.add_feature(cartopy.feature.OCEAN)\n",
    "ax.add_feature(cartopy.feature.LAND, edgecolor='black')\n",
    "ax.add_feature(cartopy.feature.LAKES, edgecolor='black')\n",
    "ax.add_feature(cartopy.feature.RIVERS)\n",
    "ax.gridlines()\n",
    "# Extent of .\n",
    "ax.set_extent([42, 48, 30, 35])\n",
    "nx.draw_networkx(g, ax=ax,\n",
    "                 font_size=10,\n",
    "                 alpha=.8,\n",
    "                 width=.075,\n",
    "                 pos=pos,\n",
    "                 cmap=plt.cm.autumn)"
   ]
  },
  {
   "cell_type": "markdown",
   "id": "982b18e8",
   "metadata": {
    "id": "1g9lc7Duw3dF"
   },
   "source": [
    "This is in no way completed, potential next step might include interactive graphs like those realized in Gephi (potentially using Bokeh?) and explore other methods to set up edges (currently there are no two places with a same p number so I just simply connected them) and edge weights."
   ]
  }
 ],
 "metadata": {
  "kernelspec": {
   "display_name": "Python 3",
   "language": "python",
   "name": "python3"
  },
  "language_info": {
   "codemirror_mode": {
    "name": "ipython",
    "version": 3
   },
   "file_extension": ".py",
   "mimetype": "text/x-python",
   "name": "python",
   "nbconvert_exporter": "python",
   "pygments_lexer": "ipython3",
   "version": "3.7.7"
  }
 },
 "nbformat": 4,
 "nbformat_minor": 5
}
