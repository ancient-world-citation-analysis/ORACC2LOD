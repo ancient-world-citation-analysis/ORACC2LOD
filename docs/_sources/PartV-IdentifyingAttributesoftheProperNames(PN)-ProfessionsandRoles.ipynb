{
 "cells": [
  {
   "cell_type": "markdown",
   "id": "8cb6547c",
   "metadata": {
    "id": "RLK76zc7JPzL"
   },
   "source": [
    "# V. Identifying Attributes of the Proper Names (PN): Professions and Roles"
   ]
  },
  {
   "cell_type": "markdown",
   "id": "3228af6b",
   "metadata": {
    "id": "nBldNRoAJPzN"
   },
   "source": [
    "In order to build a node list for all personal names (PN) mentioned in each text, we create a dictionary with all the PN as keys. The values are dictionaries that contain additional attributes for each PN, including their profession and role. These will be added to the resulting node list below. \n",
    "\n",
    "The goal of this notebook is to build a node list (as `CSV`) with each row representing a PN with a unique ID, and additional columns for the attributes of the PN. Currently, these include the associated role for each text and their profession if matched with the list below. "
   ]
  },
  {
   "cell_type": "code",
   "execution_count": null,
   "id": "f5cd52a3",
   "metadata": {
    "id": "HCl33M56JPzO"
   },
   "outputs": [],
   "source": [
    "people = dict()\n",
    "for row in filtered.itertuples():\n",
    "    if 'PN' in row.lemma:\n",
    "        people[(row.lemma, row.id_word)] = dict()"
   ]
  },
  {
   "cell_type": "code",
   "execution_count": null,
   "id": "ea2e3bda",
   "metadata": {
    "id": "caZSW6rhJPzS"
   },
   "outputs": [],
   "source": [
    "#sanity check\n",
    "print(people.keys())"
   ]
  },
  {
   "cell_type": "markdown",
   "id": "2560afee",
   "metadata": {
    "id": "Y8-tJYe9JPzg"
   },
   "source": [
    "## 1 List of Professions"
   ]
  },
  {
   "cell_type": "markdown",
   "id": "81f80f01",
   "metadata": {
    "id": "MS9v8dsqJPzi"
   },
   "source": [
    "We first created the initial list of professions and other named entities by mining all the nouns in each tablet which follow each PN, and placing them in a `CSV` entitled [words_after_PN](https://docs.google.com/spreadsheets/d/1Jrn8nzMl59CTd8qdiwFZCuCbogj-U5FdBXhF26_94U0/edit?usp=sharing). \n",
    "We then split the list based on different lexical boundaries and used a typology to categorize these into different groups: \n",
    "* com = commodity\n",
    "* econ = economic terminology\n",
    "* fam = family affiliation\n",
    "* gender = term distinguishing gender\n",
    "* place = geographic names, house names, place names, etc.\n",
    "* prof = professions and titles used\n",
    "* time = chronological terms, or things associated with the cultic calendar (e.g. ‘offerings’)\n",
    "\n",
    "SOURCE: [URAP meeting notes](https://docs.google.com/document/d/1GRyje1Qmt0tbi6PZHk0lJNvFpwE0mIsvIG08PAj4Q_c/edit?usp=sharing)"
   ]
  },
  {
   "cell_type": "code",
   "execution_count": null,
   "id": "10b89725",
   "metadata": {
    "id": "3JWNmtsFJPzk"
   },
   "outputs": [],
   "source": [
    "\n",
    "professions = [ \"aʾigidu[worker]\", \n",
    "                \"abala[water-drawer]\", \n",
    "                \"abrig[functionary]\", \n",
    "                \"ad.KID[weaver]\", \n",
    "                \"agaʾus[soldier]\",\n",
    "                \"arad[slave]\",\n",
    "                \"ašgab[leatherworker]\",\n",
    "                \"aʾua [musician]\", \n",
    "                \"azlag[fuller]\",\n",
    "                \"bahar[potter]\",\n",
    "                \"bisaŋdubak[archivist]\",\n",
    "                \"damgar[merchant]\",\n",
    "                \"dikud[judge]\",\n",
    "                \"dubsar[scribe]\",\n",
    "                \"en[priest]\",\n",
    "                \"erešdiŋir[priestess]\",\n",
    "                \"ensik[ruler]\",\n",
    "                \"engar[farmer]\",\n",
    "                \"enkud[tax-collector]\",\n",
    "                \"gabaʾaš[courier]\",\n",
    "                \"galamah[singer]\",\n",
    "                \"gala[singer]\",\n",
    "                \"geme[worker]\",\n",
    "                \"gudug[priest]\",\n",
    "                \"guzala[official]\",\n",
    "                \"idu[doorkeeper]\",\n",
    "                \"išib[priest]\",\n",
    "                \"kaguruk[supervisor]\",\n",
    "                \"kaš[runner]\",\n",
    "                \"kiŋgia[messenger]\",\n",
    "                \"kinda[barber]\", \n",
    "                \"kinkin[miller]\",\n",
    "                \"kiridab[driver]\", \n",
    "                \"kurušda[fattener]\", \n",
    "                \"kuš[official]\",\n",
    "                \"lu[person]\",\n",
    "                \"lugal[king]\",\n",
    "                \"lukur[priestess]\",\n",
    "                \"lungak[brewer]\",\n",
    "                \"malah[sailor]\",\n",
    "                \"muhaldim[cook]\",\n",
    "                \"mušendu[bird-catcher]\",\n",
    "                \"nagada[herdsman]\",\n",
    "                \"nagar[carpenter]\",\n",
    "                \"nar[musician]\",\n",
    "                \"nargal[musician]\", \n",
    "                \"narsa[musician]\", \n",
    "                \"nin[lady]\",\n",
    "                \"nubanda[overseer]\",\n",
    "                \"nukirik[horticulturalist]\",\n",
    "                \"saŋ.DUN₃[recorder]\",\n",
    "                \"saŋŋa[official]\",\n",
    "                \"simug[smith]\",\n",
    "                \"sipad[shepherd]\",\n",
    "                \"sukkal[secretary]\",\n",
    "                \"šabra[administrator]\",\n",
    "                \"šagia[cup-bearer]\",\n",
    "                \"šakkanak[general]\",\n",
    "                # \"szej[cook]\", this is a verb\n",
    "                \"šidim[builder]\",\n",
    "                \"šuʾi[barber]\",\n",
    "                \"šukud[fisherman]\",\n",
    "                \"tibira[sculptor]\",\n",
    "                \"ugula[overseer]\",\n",
    "                \"unud[cowherd]\",\n",
    "                # \"urin[guard]\", this is a verb\n",
    "                \"UN.IL₂[menial]\",\n",
    "                \"ušbar[weaver]\",\n",
    "                \"zabardab[official]\",\n",
    "                \"zadim[stone-cutter]\"]\n",
    "\n",
    "profession_counts = { i : 0 for i in professions }"
   ]
  },
  {
   "cell_type": "markdown",
   "id": "32bc1c33",
   "metadata": {
    "id": "rafOxyNkJPzv"
   },
   "source": [
    "If previous word is a 'PN' and the current word matches a profession, I'll add that profession to the PN. The commented out parts are from when I tried to generate my own list of professions. "
   ]
  },
  {
   "cell_type": "code",
   "execution_count": null,
   "id": "e5201587",
   "metadata": {
    "id": "vJRXgX5xJPzw"
   },
   "outputs": [],
   "source": [
    "import re\n",
    "\n",
    "prev_row = None\n",
    "for row in filtered.itertuples():\n",
    "        if prev_row != None and 'PN' in prev_row.lemma and (re.match('^[^\\]]*', row.lemma)[0] + \"]\") in professions:\n",
    "                profession_counts[(re.match('^[^\\]]*', row.lemma)[0] + \"]\")] += 1\n",
    "                people[(prev_row.lemma, prev_row.id_word)]['profession'] = row.lemma\n",
    "        prev_row = row\n",
    "        \n",
    "        \n",
    "english = set()\n",
    "\n",
    "#for word in words:\n",
    "    #to get only english use this one\n",
    "    #english.append((re.search('\\[(.*?)\\]', str(word)).group()))\n",
    " #   english.add(word[0])\n",
    "\n",
    "#print(len(english))\n",
    "\n",
    "#for val in set(english):\n",
    " #   print(val[1:-1])\n",
    "\n",
    "#Since this is related to the n-neighbors, this CSV is later on used in the neighbors notebook\n",
    "pd.DataFrame(list(english)).to_csv('words_after_PN.csv', index = False)"
   ]
  },
  {
   "cell_type": "code",
   "execution_count": null,
   "id": "3db83562",
   "metadata": {
    "id": "lvOtUjx1JPz1"
   },
   "outputs": [],
   "source": [
    "pd.DataFrame.from_dict(profession_counts, orient='index', columns=['Percentages']).head()"
   ]
  },
  {
   "cell_type": "code",
   "execution_count": null,
   "id": "f11f45c5",
   "metadata": {
    "id": "tEbm1OKlJPz5"
   },
   "outputs": [],
   "source": [
    "total = sum(profession_counts.values())\n",
    "profession_percentages = { i : profession_counts[i]/total for i in profession_counts}\n",
    "percentage_df = pd.DataFrame.from_dict(profession_percentages, orient='index', columns=['Percentage'])\n",
    "percentage_df.head(15)"
   ]
  },
  {
   "cell_type": "markdown",
   "id": "79914408",
   "metadata": {
    "id": "rxl5x9YAJPz_"
   },
   "source": [
    "Looking at professions that never appear:"
   ]
  },
  {
   "cell_type": "code",
   "execution_count": null,
   "id": "b37f1b1b",
   "metadata": {
    "id": "2e6DG3bfJP0B"
   },
   "outputs": [],
   "source": [
    "percentage_df[percentage_df['Percentage'] ==  0.0]\n"
   ]
  },
  {
   "cell_type": "code",
   "execution_count": null,
   "id": "1ec0b08f",
   "metadata": {
    "id": "lr_jEc49JP0K"
   },
   "outputs": [],
   "source": [
    "percentage_df.sort_values(by='Percentage', ascending=False)"
   ]
  },
  {
   "cell_type": "markdown",
   "id": "6e3e2b6c",
   "metadata": {
    "id": "jK4g3dfnJP0e"
   },
   "source": [
    "## 2 Finding Roles"
   ]
  },
  {
   "cell_type": "markdown",
   "id": "375e6cf5",
   "metadata": {
    "id": "nlLK89KUJP0f"
   },
   "source": [
    "More information on keywords can be found here:\n",
    "https://github.com/niekveldhuis/Sumerian-network/blob/master/Finding%20Merging%20Roles%20and%20Professions/roles_and_keywords.md "
   ]
  },
  {
   "cell_type": "code",
   "execution_count": null,
   "id": "597a8095",
   "metadata": {
    "id": "zj_1Vp0OJP0g"
   },
   "outputs": [],
   "source": [
    "import re\n",
    "def match_ki_ta():\n",
    "    prev_row = None\n",
    "    i=0\n",
    "    words = []\n",
    "    for row in filtered.itertuples():\n",
    "        if re.match(r\".+ta\\[\\]PN\", row.lemma) and 'ki[place]N' in prev_row:\n",
    "            words.append((row.lemma, row.id_word))\n",
    "            i+=1\n",
    "        prev_row = row\n",
    "    print('Number of roles found:', i)\n",
    "    return (words, i)\n",
    "\n",
    "\n",
    "def find_keyword_prev(keyword):\n",
    "    prev_row = None\n",
    "    i=0\n",
    "    words = []\n",
    "    for row in filtered.itertuples():\n",
    "        if prev_row != None and keyword in row.lemma and 'PN' in prev_row.lemma:\n",
    "            words.append((prev_row.lemma, prev_row.id_word))\n",
    "            i+=1\n",
    "        prev_row = row\n",
    "    print('Number of roles found:', i)\n",
    "    return (words, i)\n",
    "    \n",
    "def find_keyword_next(keyword):\n",
    "    prev_row = None\n",
    "    i=0\n",
    "    words = []\n",
    "    for row in filtered.itertuples():\n",
    "        if prev_row != None and keyword in prev_row.lemma and 'PN' in row.lemma:\n",
    "            words.append((row.lemma, row.id_word))\n",
    "            i+=1\n",
    "        prev_row = row\n",
    "    print('Number of roles found:', i)\n",
    "    return (words, i)"
   ]
  },
  {
   "cell_type": "markdown",
   "id": "7fcfb160",
   "metadata": {
    "id": "yk73nKfvJP0j"
   },
   "source": [
    "Creating a dictionary that maps roles to count of those roles"
   ]
  },
  {
   "cell_type": "code",
   "execution_count": null,
   "id": "53141974",
   "metadata": {
    "id": "Dl3MY1kqJP0k"
   },
   "outputs": [],
   "source": [
    "role_counts = dict()"
   ]
  },
  {
   "cell_type": "markdown",
   "id": "2d607a76",
   "metadata": {
    "id": "8swULvPNJP0n"
   },
   "source": [
    "1. Matching rows that have 'ki[place]N' in previous cell and '-ta' in current"
   ]
  },
  {
   "cell_type": "code",
   "execution_count": null,
   "id": "e288392b",
   "metadata": {
    "id": "6IB40FiHJP0o"
   },
   "outputs": [],
   "source": [
    "#source\n",
    "for person, id_w in match_ki_ta()[0]:\n",
    "    try:\n",
    "        people[(person, id_w)]['role'] = 'source'\n",
    "    except:\n",
    "        print(person, id_w)\n",
    "        \n",
    "role_counts['source'] = match_ki_ta()[1]"
   ]
  },
  {
   "cell_type": "markdown",
   "id": "8d3bb45c",
   "metadata": {
    "id": "RPou69uEJP0u"
   },
   "source": [
    "2. Matching rows that have 'dab[seize]V/t' in lemmatization"
   ]
  },
  {
   "cell_type": "code",
   "execution_count": null,
   "id": "0565a86d",
   "metadata": {
    "id": "ZKTAJGtCJP0v"
   },
   "outputs": [],
   "source": [
    "res = find_keyword_prev('dab[seize]V/t')\n",
    "for (person, id_w) in res[0]:\n",
    "    try:\n",
    "        people[(person, id_w)]['role'] = 'recipient'\n",
    "    except:\n",
    "        print(person, id_w)\n",
    "        \n",
    "role_counts['recipient'] = res[1]"
   ]
  },
  {
   "cell_type": "markdown",
   "id": "7b3b7231",
   "metadata": {
    "id": "SenffPSlJP0z"
   },
   "source": [
    "3. Matching rows that have 'mu.DU[delivery]N' in next cell"
   ]
  },
  {
   "cell_type": "code",
   "execution_count": null,
   "id": "176f7935",
   "metadata": {
    "id": "_kMPrpJ4JP00"
   },
   "outputs": [],
   "source": [
    "# new owner\n",
    "res = find_keyword_next('mu.DU[delivery]N')\n",
    "for (person, id_w) in res[0]:\n",
    "    try:\n",
    "        people[(person, id_w)]['role'] = 'new owner'\n",
    "    except:\n",
    "        print((person, id_w))\n",
    "        \n",
    "role_counts['new owner'] = res[1]"
   ]
  },
  {
   "cell_type": "markdown",
   "id": "19197ce9",
   "metadata": {
    "id": "z4Uw6W9qJP04"
   },
   "source": [
    "4. Matching rows that have 'šu[hand]N' in next cell"
   ]
  },
  {
   "cell_type": "code",
   "execution_count": null,
   "id": "7332e792",
   "metadata": {
    "id": "wOeJ8VdbJP07"
   },
   "outputs": [],
   "source": [
    "res = find_keyword_prev('šu[hand]N')\n",
    "for (person, id_w) in res[0]:\n",
    "    try:\n",
    "        people[(person, id_w)]['role'] = 'recipient'\n",
    "    except:\n",
    "        print(person, id_w)\n",
    "role_counts['recipient'] += res[1]"
   ]
  },
  {
   "cell_type": "markdown",
   "id": "385a66b8",
   "metadata": {
    "id": "j6l3IUJnJP0-"
   },
   "source": [
    "5. Matching rows that have 'ŋiri[foot]N' in next cell"
   ]
  },
  {
   "cell_type": "code",
   "execution_count": null,
   "id": "0818336c",
   "metadata": {
    "id": "Oy8Vx_vjJP0_"
   },
   "outputs": [],
   "source": [
    "res = find_keyword_next('ŋiri[foot]N')\n",
    "for (person, id_w) in res[0]:\n",
    "    try:\n",
    "        people[(person, id_w)]['role'] = 'intermediary'\n",
    "    except:\n",
    "        print((person, id_w))\n",
    "        \n",
    "role_counts['intermediary'] = res[1]        "
   ]
  },
  {
   "cell_type": "markdown",
   "id": "3863f59b",
   "metadata": {
    "id": "vu_eWBmpJP1D"
   },
   "source": [
    "6. Looks for rows with 'maškim' in previous spot"
   ]
  },
  {
   "cell_type": "code",
   "execution_count": null,
   "id": "4d9917f5",
   "metadata": {
    "id": "MHWyrX0FJP1E"
   },
   "outputs": [],
   "source": [
    "res = find_keyword_prev('maškim[administrator]N')\n",
    "for (person, id_w) in res[0]:\n",
    "    try:\n",
    "        people[(person, id_w)]['role'] = 'administrator'\n",
    "    except:\n",
    "        print((person, id_w))\n",
    "        \n",
    "role_counts['administrator'] = res[1]      "
   ]
  },
  {
   "cell_type": "markdown",
   "id": "9c15f583",
   "metadata": {
    "id": "QFcJBT2VJP1H"
   },
   "source": [
    "7. Looking for PNs before and after 'zig[rise]V/i'"
   ]
  },
  {
   "cell_type": "code",
   "execution_count": null,
   "id": "c10f8175",
   "metadata": {
    "id": "h5SKDE-kJP1H"
   },
   "outputs": [],
   "source": [
    "res = find_keyword_next('zig[rise]V/i')\n",
    "for (person, id_w) in res[0]:\n",
    "    try:\n",
    "        people[(person, id_w)]['role'] = 'source'\n",
    "    except:\n",
    "        print((person, id_w))\n",
    "        \n",
    "role_counts['source'] += res[1]"
   ]
  },
  {
   "cell_type": "code",
   "execution_count": null,
   "id": "1107c54d",
   "metadata": {
    "id": "hml1NACnJP1K"
   },
   "outputs": [],
   "source": [
    "res = find_keyword_prev('zig[rise]V/i')\n",
    "for (person, id_w) in res[0]:\n",
    "    try:\n",
    "        people[(person, id_w)]['role'] = 'source'\n",
    "    except:\n",
    "        print((person, id_w))\n",
    "        \n",
    "role_counts['source'] += res[1]"
   ]
  },
  {
   "cell_type": "markdown",
   "id": "ffa0e14c",
   "metadata": {
    "id": "YzITVsAiJP1V"
   },
   "source": [
    "This is every PN mentioned in the filtered texts"
   ]
  },
  {
   "cell_type": "code",
   "execution_count": null,
   "id": "b2e9c2db",
   "metadata": {
    "id": "VY0bgIX1JP1W"
   },
   "outputs": [],
   "source": [
    "len(people.keys())"
   ]
  },
  {
   "cell_type": "markdown",
   "id": "1846ab3d",
   "metadata": {
    "id": "8epDCwE1g-FY"
   },
   "source": []
  },
  {
   "cell_type": "code",
   "execution_count": null,
   "id": "3ebcebe8",
   "metadata": {
    "id": "_RrS-fORJP1b"
   },
   "outputs": [],
   "source": [
    "people_df = pd.DataFrame(list(people.items()))\n",
    "people_df.head(4)"
   ]
  },
  {
   "cell_type": "markdown",
   "id": "4d51a3cf",
   "metadata": {
    "id": "I1EfAwdFJP1f"
   },
   "source": [
    "## 3 Transfer to CSV"
   ]
  },
  {
   "cell_type": "code",
   "execution_count": null,
   "id": "c30dcaac",
   "metadata": {
    "id": "pLiCWXUzJP1g"
   },
   "outputs": [],
   "source": [
    "name_word = pd.DataFrame(people_df[0].values.tolist(), index=people_df.index, columns = ['Name', 'id_word'])\n",
    "final = name_word.join(people_df.drop(people_df.columns[0], axis = 1))\n",
    "\n"
   ]
  },
  {
   "cell_type": "code",
   "execution_count": null,
   "id": "6360c626",
   "metadata": {
    "id": "YCxaxsqSJP1j"
   },
   "outputs": [],
   "source": [
    "final = pd.concat([final.drop([1], axis=1), final[1].apply(pd.Series)], axis=1)"
   ]
  },
  {
   "cell_type": "code",
   "execution_count": null,
   "id": "51f0ba48",
   "metadata": {
    "id": "_P3dWINHJP1l"
   },
   "outputs": [],
   "source": [
    "final.head()"
   ]
  },
  {
   "cell_type": "markdown",
   "id": "0fa19b5e",
   "metadata": {
    "id": "Bh6tnKYLJP1p"
   },
   "source": [
    "adding CDLI No column"
   ]
  },
  {
   "cell_type": "code",
   "execution_count": null,
   "id": "1031af96",
   "metadata": {
    "id": "ztwPQtGzJP1p"
   },
   "outputs": [],
   "source": [
    "CDLI_No = final['id_word'].apply(lambda x: re.split('\\.', x)[0])\n",
    "final.insert(4, 'CDLI No', CDLI_No)\n",
    "final.head()"
   ]
  },
  {
   "cell_type": "code",
   "execution_count": null,
   "id": "7d178538",
   "metadata": {
    "id": "VUxzZsrdJP1s"
   },
   "outputs": [],
   "source": [
    "\n",
    "final.to_csv('roles_professions.csv')"
   ]
  },
  {
   "cell_type": "code",
   "execution_count": null,
   "id": "dcd59390",
   "metadata": {
    "id": "qtt1TxOCJP1u"
   },
   "outputs": [],
   "source": [
    "#TODO: need to deal with case when PN not right next to role\n",
    "[(row.lemma, row.id_word) for row in filtered.itertuples() if 'P330639.17' in row.id_word]"
   ]
  },
  {
   "cell_type": "markdown",
   "id": "3330d3e3",
   "metadata": {
    "id": "QFViIAMbJP1w"
   },
   "source": [
    "## 4 Analyzing Roles and Professions"
   ]
  },
  {
   "cell_type": "markdown",
   "id": "e0e44f14",
   "metadata": {
    "id": "8dx1tM9vJP1x"
   },
   "source": [
    "Here we analyze percentages of roles. Previously we created a dataframe for percentages of professions"
   ]
  },
  {
   "cell_type": "code",
   "execution_count": null,
   "id": "4e1034d5",
   "metadata": {
    "id": "vNTrutZqJP1y"
   },
   "outputs": [],
   "source": [
    "#role percentages\n",
    "\n",
    "total = sum(role_counts.values())\n",
    "role_counts.update((k,role_counts[k]/total) for k in role_counts)\n",
    "print(role_counts)\n",
    "pd.DataFrame.from_dict(role_counts, orient='index', columns=['Percentages'])"
   ]
  }
 ],
 "metadata": {
  "kernelspec": {
   "display_name": "Python 3",
   "language": "python",
   "name": "python3"
  },
  "language_info": {
   "codemirror_mode": {
    "name": "ipython",
    "version": 3
   },
   "file_extension": ".py",
   "mimetype": "text/x-python",
   "name": "python",
   "nbconvert_exporter": "python",
   "pygments_lexer": "ipython3",
   "version": "3.7.7"
  }
 },
 "nbformat": 4,
 "nbformat_minor": 5
}
