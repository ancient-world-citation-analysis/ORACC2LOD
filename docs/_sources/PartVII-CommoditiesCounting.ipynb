{
 "cells": [
  {
   "cell_type": "markdown",
   "id": "a2cec31f",
   "metadata": {
    "id": "mS6k4PHWt6Zr"
   },
   "source": [
    "# VII. Commodities Counting"
   ]
  },
  {
   "cell_type": "markdown",
   "id": "25dce6c0",
   "metadata": {
    "id": "o71Or56H8eBp"
   },
   "source": [
    "## 1 Adding Quantity/Number Information to Lemmas"
   ]
  },
  {
   "cell_type": "markdown",
   "id": "bfd8626b",
   "metadata": {
    "id": "f4AlCLrv4lNF"
   },
   "source": [
    "The first step is to extract lemmas representing numbers from the rest of our data. To do this, we simply look for all words whose lemma ends in 'NU', storing these in the variable `numbers_df`. Note that the indexes are not re-assigned from `words_df`, so we can still use `numbers_df` to determine the index of a number-lemma in the `words_df` frame."
   ]
  },
  {
   "cell_type": "code",
   "execution_count": null,
   "id": "f7aacfb5",
   "metadata": {
    "id": "DDEgyrq1SMi4"
   },
   "outputs": [],
   "source": [
    "# note that 'NU$' is a regular expression, so the $ indicates that the 'NU'\n",
    "# must be at the end of the string.\n",
    "numbers_df = words_df[words_df['lemma'].str.contains('NU$')].copy()"
   ]
  },
  {
   "cell_type": "markdown",
   "id": "c267a88f",
   "metadata": {
    "id": "8ZogN15Y46uc"
   },
   "source": [
    "With that out of the way, we next need to do the following:\n",
    "\n",
    "\n",
    "1.   Identify all consecutive sequences of number-lemmas ('number blocks') on a line.\n",
    "2.   Develop a method to convert the number blocks from (1) into integer or decimal format.\n",
    "3.   Associate the lemma that immediately follows a number block from (1) with the converted integer from (2), and add this information back into the `words_df` frame."
   ]
  },
  {
   "cell_type": "markdown",
   "id": "fa30ea82",
   "metadata": {
    "id": "Jvp0t9Zm_gyQ"
   },
   "source": [
    "### 1.1 Identifying Number Blocks"
   ]
  },
  {
   "cell_type": "code",
   "execution_count": null,
   "id": "b52b130d",
   "metadata": {
    "id": "Dcs4M9o4KWSB"
   },
   "outputs": [],
   "source": [
    "def search_for_number_blocks(numb_df):\n",
    "  number_blocks = [] # this will be a list-of-lists, which each sub-list \n",
    "                     # representing the indexes of one number block   \n",
    "  \n",
    "  current_block = [] # the current number block we are building\n",
    "  \n",
    "  # loop through all number lemmas\n",
    "  for i in range(0, len(numb_df.index) - 2):\n",
    "    # note that these represent indexes in the words_df frame as whole\n",
    "    this_index = numb_df.index[i]\n",
    "    next_index = numb_df.index[i+1]\n",
    "    current_block.append(numb_df.index[i])\n",
    "    \n",
    "    # there are 3 cases where we have reached the end of a block. First, if the\n",
    "    # index of the next lemma isn't immediately after the current one. Second,\n",
    "    # if the next lemma is on a different line. Third, if the next lemma is in a\n",
    "    # different tablet (to deal with the case of two one-line tablets in a row).\n",
    "    if next_index != this_index + 1:\n",
    "      number_blocks.append(current_block)\n",
    "      current_block = []\n",
    "    elif numb_df.at[this_index, 'id_line'] != numb_df.at[next_index, 'id_line']:\n",
    "      number_blocks.append(current_block)\n",
    "      current_block = []\n",
    "    elif numb_df.at[this_index, 'id_text'] != numb_df.at[next_index, 'id_text']:     \n",
    "      number_blocks.append(current_block)\n",
    "      current_block = []\n",
    "  return number_blocks"
   ]
  },
  {
   "cell_type": "markdown",
   "id": "4cc8c75a",
   "metadata": {
    "id": "wtQ_LQOp_q6S"
   },
   "source": [
    "### 1.2 Converting Number Blocks to a Numerical Format"
   ]
  },
  {
   "cell_type": "markdown",
   "id": "225c922f",
   "metadata": {
    "id": "msrlV9BN24se"
   },
   "source": [
    "The second part is a bit more involved. We break it up into three separate functions, with the last function using the first two.\n",
    "\n",
    "In the first of these, `add_number_block_column`, we both check that the words following a number block are indeed on the same line, and if so add the block to a new dataframe indexed by the location of the word that follows.\n",
    "\n",
    "Second, we have `convert_single_counting_number`, which converts the (Arabic) numerals given in the lemmatization into a proper number.\n",
    "\n",
    "Third, we build on `convert_single_counting_number` in `get_comm_count`. This uses the previous function to convert the Arabic numerals in a number block, then multiplies that by the approporiate weight of the unit used in the Sumerian number system.\n",
    "\n"
   ]
  },
  {
   "cell_type": "code",
   "execution_count": null,
   "id": "b578f6f6",
   "metadata": {
    "id": "K8ic8gPBKF_G"
   },
   "outputs": [],
   "source": [
    "def add_number_block_column(number_blocks, words_frame):\n",
    "  out_words_frame = words_frame.copy() \n",
    "  item_locs = []\n",
    "  good_blocks = []\n",
    "  for block in number_blocks:\n",
    "    if words_frame.at[block[-1], 'id_line'] != words_frame.at[block[-1] + 1, 'id_line']:\n",
    "      pass\n",
    "    elif words_frame.at[block[-1], 'id_text'] != words_frame.at[block[-1] + 1, 'id_text']:\n",
    "      pass\n",
    "    else:\n",
    "      item_locs.append(block[-1] + 1)\n",
    "      good_blocks.append(block)\n",
    "  number_indexes = pd.Series(data=good_blocks, index=item_locs)\n",
    "  return number_indexes"
   ]
  },
  {
   "cell_type": "code",
   "execution_count": null,
   "id": "eb3704a9",
   "metadata": {
    "id": "DFUczHiG3jYX"
   },
   "outputs": [],
   "source": [
    "def convert_single_counting_number(num_str):\n",
    "  count = 0\n",
    "  grouping_name = ''\n",
    "  bracket_string = re.search('\\[.*\\]', num_str).group()\n",
    "  if bracket_string == '[]':\n",
    "    count = float(Fraction(re.match('^[0-9/]*', num_str).group()))\n",
    "    grouping_name = re.search('\\(.*\\)', num_str).group()[1:][:-1]\n",
    "  else:\n",
    "    count = 1\n",
    "    grouping_name = num_str[0:num_str.index('[')]\n",
    "  return [count, grouping_name]"
   ]
  },
  {
   "cell_type": "code",
   "execution_count": null,
   "id": "6b8fe6c1",
   "metadata": {
    "id": "ms7iOSclV59d"
   },
   "outputs": [],
   "source": [
    "# A dictionary for converting terms to the quantity the represent.\n",
    "grouping_dict = {'diš@t':1, 'diš': 1, 'min':2,'eš':3, 'limmu':4, 'ja':5, 'aš':6, \n",
    "            'aš@c':6, 'umun':7,'ussu':8,'ilimmu':9,'u':10, \n",
    "            'niš':20, 'ušu':30, 'nimin': 40, 'ninnu':50, \n",
    "            'geš₂':60, 'ĝeš-min':120, 'gešʾu':600, \n",
    "            'ĝes-u-min':1200, 'šar₂':3600,'sila': 1, 'barig':60, 'ban₂':10, \n",
    "            'gur':300}\n",
    "\n",
    "def get_comm_count(word_index, comm_series, numb_df):\n",
    "  number_block = comm_series.at[word_index]\n",
    "  numb_df.loc[number_block, 'lemma']\n",
    "  converted_nums = numb_df.loc[number_block, 'lemma'].apply(convert_single_counting_number)\n",
    "  try:\n",
    "    return sum(converted_nums.apply(lambda x: (x[0] * grouping_dict[x[1]]))), list(converted_nums.apply(lambda x: x[1]))\n",
    "  except:\n",
    "    return None, list(converted_nums.apply(lambda x: x[1]))"
   ]
  },
  {
   "cell_type": "markdown",
   "id": "2eaa0977",
   "metadata": {
    "id": "koeXMo8GBXtt"
   },
   "source": [
    "### 1.3 Adding Number Values to words_df"
   ]
  },
  {
   "cell_type": "markdown",
   "id": "9d6a84c9",
   "metadata": {
    "id": "lxy-qNrQXFmg"
   },
   "source": [
    "Given that the previous steps have been performed, the final procedure is to associated the calculated number with a lemma in `words_df`. In particular, we attach it to the lemma that immediately follows the number block, but in the future, a more sophisticated method may be used to ensure it is attached to a commodity."
   ]
  },
  {
   "cell_type": "code",
   "execution_count": null,
   "id": "3981d170",
   "metadata": {
    "id": "9F4hmeXyd0P1"
   },
   "outputs": [],
   "source": [
    "def add_comm_counts_to_words_df(words_frame, comm_idx, numb_df):\n",
    "  counts = []\n",
    "  units = []\n",
    "  for index in comm_idx.index:\n",
    "    count, unit = get_comm_count(index, comm_idx, numb_df)\n",
    "    counts.append(count)\n",
    "    units.append(unit)\n",
    "  comm_count = pd.Series(data = counts, index = comm_idx.index)\n",
    "  units_found = pd.Series(data = units, index = comm_idx.index)\n",
    "  new_words_frame = words_frame.copy()\n",
    "  new_words_frame['comm_count'] = comm_count\n",
    "  new_words_frame['units_found'] = units_found\n",
    "  return new_words_frame"
   ]
  },
  {
   "cell_type": "code",
   "execution_count": null,
   "id": "f3eb9dc6",
   "metadata": {
    "id": "HjMOIAXbYTNq"
   },
   "outputs": [],
   "source": [
    "# Ensure the lemma string is in one of the correct formats.\n",
    "numbers_df = numbers_df.loc[( numbers_df['lemma'].str.match('[0-9/]*\\(.*\\)\\[\\]NU') | numbers_df['lemma'].str.match('.*\\[.+\\]NU'))]\n",
    "comm_idx = add_number_block_column(search_for_number_blocks(numbers_df), words_df)"
   ]
  },
  {
   "cell_type": "code",
   "execution_count": null,
   "id": "cb818ff1",
   "metadata": {
    "id": "Kb2K6CTxjnHx"
   },
   "outputs": [],
   "source": [
    "out = add_comm_counts_to_words_df(words_df, comm_idx, numbers_df)"
   ]
  },
  {
   "cell_type": "markdown",
   "id": "195b4fee",
   "metadata": {
    "id": "qBqceg965QFo"
   },
   "source": [
    "## 2 Cleaning Our Data"
   ]
  },
  {
   "cell_type": "markdown",
   "id": "ab626771",
   "metadata": {
    "id": "fZSDx9hVoDZJ"
   },
   "source": [
    "There are several uncertainties and inaccuracies that remain in our data. For one, much of our future analysis will look at changes in commodities over time, but many of the tablets have near-illegible or multiple dates. Before we continue, we must filter these out.\n",
    "\n",
    "Secondly, lemmas with the same transliteration are occasionally mistaken for one another. This can be quite problematic since oftentimes the typical quantity of one is much greater than the other. To attempt to detect when this has occurred, we eliminate commodities whose largest count is over five times that of its second largest.\n",
    "\n",
    "Another potential issue is that many lemmas were only used in a few tablets from a limited selection of years. In such a case they tell us very little about overall changes to the Ur III economy throughout its existence. Therefore we exclude commodities that occur in fewer than 10 years."
   ]
  },
  {
   "cell_type": "code",
   "execution_count": null,
   "id": "9113b210",
   "metadata": {
    "id": "X5Yooqm6qKx7"
   },
   "outputs": [],
   "source": [
    "valid_counts = out.dropna()\n",
    "valid_counts = valid_counts[(valid_counts['questionable'] == False) & (valid_counts['metadata_source_x'] == 'BDTNS') & (valid_counts['multiple_dates'] == False) & (valid_counts['ftype'] != 'yn')]"
   ]
  },
  {
   "cell_type": "code",
   "execution_count": null,
   "id": "d3d59768",
   "metadata": {
    "id": "N3Ydnzk95TYg"
   },
   "outputs": [],
   "source": [
    "unreliable_lemmas = []\n",
    "for lemma in list(set(valid_counts['lemma'])):\n",
    "  ordered_vals = list(valid_counts[valid_counts['lemma'] == lemma]['comm_count'].sort_values(ascending = False))\n",
    "  years = list(valid_counts[valid_counts['lemma'] == lemma]['year'])\n",
    "  if len(ordered_vals) > 1 and ordered_vals[0] > ordered_vals[1]*5: # filter out data with likely mislemmatization\n",
    "    unreliable_lemmas.append(lemma)\n",
    "  elif '[unit]' in lemma: # if this is a unit of measurement, for now we ignore it\n",
    "    unreliable_lemmas.append(lemma)\n",
    "  elif len(years) < 10: # if a lemma only appears in a few years throw it out\n",
    "    unreliable_lemmas.append(lemma)\n"
   ]
  },
  {
   "cell_type": "code",
   "execution_count": null,
   "id": "c53f15b2",
   "metadata": {
    "id": "8at4eza07Ixt"
   },
   "outputs": [],
   "source": [
    "valid_counts = valid_counts.drop(valid_counts['lemma'][valid_counts['lemma'].isin(unreliable_lemmas)].index)"
   ]
  },
  {
   "cell_type": "markdown",
   "id": "33522324",
   "metadata": {
    "id": "wXwOCWnKiJuJ"
   },
   "source": [
    "## 3 Refining Our Commodity Search"
   ]
  },
  {
   "cell_type": "code",
   "execution_count": null,
   "id": "c4ad63b4",
   "metadata": {
    "id": "5cqrwKGfC417"
   },
   "outputs": [],
   "source": [
    "class Lemma:\n",
    "  def __init__(self, transliteration = '.*', definition = '.*', pos = '.*', plaintext_alias = None):\n",
    "    self.transliteration = transliteration\n",
    "    self.definition = definition\n",
    "    self.pos = pos\n",
    "    self.regex_seed = f'(({transliteration})\\[({definition})\\]({pos}))'\n",
    "    self.plaintext_alias = plaintext_alias\n",
    "  \n",
    "  def lookup(self, words_frame):\n",
    "    return words_frame['lemma'].str.contains(self.regex_seed)\n",
    "  \n",
    "  def merge_matches(self, words_frame):\n",
    "    out_frame = words_frame.copy()\n",
    "    locations = self.lookup(out_frame)\n",
    "    if ~locations.any():\n",
    "      return out_frame\n",
    "    replacement_string = self.plaintext_alias if self.plaintext_alias is not None else re.escape(self.regex_seed)\n",
    "    out_frame['lemma'][locations] = replacement_string\n",
    "    return out_frame"
   ]
  },
  {
   "cell_type": "code",
   "execution_count": null,
   "id": "536eae61",
   "metadata": {
    "id": "neCgzJ5qnIkV"
   },
   "outputs": [],
   "source": [
    "def lookup_lines_of_lemma(lemma, words_frame):\n",
    "  filtered_frame = words_frame.copy()\n",
    "  filtered_frame = filtered_frame[filtered_frame['lemma'].str.match(lemma.regex_seed)]\n",
    "  return filtered_frame[['id_text', 'id_line', 'lemma']].groupby(by=['id_text', 'id_line']).indices"
   ]
  },
  {
   "cell_type": "code",
   "execution_count": null,
   "id": "297a8b08",
   "metadata": {
    "id": "r2a7sui05oYg"
   },
   "outputs": [],
   "source": [
    "def lookup_forward_neighbors(lemma, words_frame, leap_size = 1):\n",
    "  return words_frame.loc[(words_frame.loc[words_frame['lemma'].str.fullmatch(lemma.regex_seed)].index + 1)[:(-leap_size)]]"
   ]
  },
  {
   "cell_type": "code",
   "execution_count": null,
   "id": "79184a4b",
   "metadata": {
    "id": "uwLNpU4s7AeA"
   },
   "outputs": [],
   "source": [
    "def lookup_backwards_neighbors(lemma, words_frame, leap_size = 1):\n",
    "  return words_frame.loc[(words_frame.loc[words_frame['lemma'].str.fullmatch(lemma.regex_seed)].index - leap_size)[leap_size:]]"
   ]
  },
  {
   "cell_type": "code",
   "execution_count": null,
   "id": "1df69c5b",
   "metadata": {
    "id": "95el1cdM-6ku"
   },
   "outputs": [],
   "source": [
    "reduced_words_df = words_df[['lemma', 'id_text', 'id_line', 'id_word', 'label']]"
   ]
  },
  {
   "cell_type": "code",
   "execution_count": null,
   "id": "95314d90",
   "metadata": {
    "id": "LEpxq5Ru_41n"
   },
   "outputs": [],
   "source": [
    "delivery_texts = [key[0] for key in lookup_lines_of_lemma(Lemma('mu.DU','delivery'), reduced_words_df).keys()]\n",
    "expenditure_texts = [key[0] for key in lookup_lines_of_lemma(Lemma('ziga', 'expenditure'), reduced_words_df).keys()]\n",
    "expenditure_texts.extend([key[0] for key in lookup_lines_of_lemma(Lemma('zig', 'rise'), reduced_words_df).keys()])"
   ]
  },
  {
   "cell_type": "code",
   "execution_count": null,
   "id": "b809f1bd",
   "metadata": {
    "id": "i7T2i0kdHfAN"
   },
   "outputs": [],
   "source": [
    "# If a text only has mu.DU, then add it to delivery\n",
    "valid_counts['delivery'] = valid_counts['id_text'].isin(delivery_texts) & ~valid_counts['id_text'].isin(expenditure_texts)\n",
    "\n",
    "# If a text has zig or ziga, regardless of whether it has mu.DU, add it to expenditure\n",
    "valid_counts['expenditure'] = valid_counts['id_text'].isin(expenditure_texts)\n",
    "\n",
    "# Lastly, create a category that contains both sets of texts\n",
    "valid_counts['delivery_or_expenditure'] = valid_counts['id_text'].isin(expenditure_texts) | valid_counts['id_text'].isin(delivery_texts)"
   ]
  },
  {
   "cell_type": "code",
   "execution_count": null,
   "id": "30834839",
   "metadata": {
    "colab": {
     "base_uri": "https://localhost:8080/",
     "height": 419
    },
    "id": "iVe1xbJT007P",
    "outputId": "a653614e-3dd0-4e5b-aa45-4e039757ed71"
   },
   "outputs": [
    {
     "data": {
      "text/html": [
       "<div>\n",
       "<style scoped>\n",
       "    .dataframe tbody tr th:only-of-type {\n",
       "        vertical-align: middle;\n",
       "    }\n",
       "\n",
       "    .dataframe tbody tr th {\n",
       "        vertical-align: top;\n",
       "    }\n",
       "\n",
       "    .dataframe thead th {\n",
       "        text-align: right;\n",
       "    }\n",
       "</style>\n",
       "<table border=\"1\" class=\"dataframe\">\n",
       "  <thead>\n",
       "    <tr style=\"text-align: right;\">\n",
       "      <th></th>\n",
       "      <th>lemma</th>\n",
       "      <th>id_text</th>\n",
       "      <th>id_line</th>\n",
       "      <th>id_word</th>\n",
       "      <th>label</th>\n",
       "    </tr>\n",
       "  </thead>\n",
       "  <tbody>\n",
       "    <tr>\n",
       "      <th>220</th>\n",
       "      <td>Urum[1]SN</td>\n",
       "      <td>P100217</td>\n",
       "      <td>12</td>\n",
       "      <td>P100217.12.4</td>\n",
       "      <td>r 2</td>\n",
       "    </tr>\n",
       "    <tr>\n",
       "      <th>260</th>\n",
       "      <td>ensik[ruler]N</td>\n",
       "      <td>P100219</td>\n",
       "      <td>8</td>\n",
       "      <td>P100219.8.1</td>\n",
       "      <td>o 6</td>\n",
       "    </tr>\n",
       "    <tr>\n",
       "      <th>303</th>\n",
       "      <td>1(diš)[]NU</td>\n",
       "      <td>P100221</td>\n",
       "      <td>4</td>\n",
       "      <td>P100221.4.1</td>\n",
       "      <td>o 2</td>\n",
       "    </tr>\n",
       "    <tr>\n",
       "      <th>366</th>\n",
       "      <td>ud[sun]N</td>\n",
       "      <td>P100222</td>\n",
       "      <td>16</td>\n",
       "      <td>P100222.16.1</td>\n",
       "      <td>r 6</td>\n",
       "    </tr>\n",
       "    <tr>\n",
       "      <th>505</th>\n",
       "      <td>sila[lamb]N</td>\n",
       "      <td>P100228</td>\n",
       "      <td>4</td>\n",
       "      <td>P100228.4.2</td>\n",
       "      <td>o 2</td>\n",
       "    </tr>\n",
       "    <tr>\n",
       "      <th>...</th>\n",
       "      <td>...</td>\n",
       "      <td>...</td>\n",
       "      <td>...</td>\n",
       "      <td>...</td>\n",
       "      <td>...</td>\n",
       "    </tr>\n",
       "    <tr>\n",
       "      <th>579201</th>\n",
       "      <td>sila[lamb]N</td>\n",
       "      <td>P517184</td>\n",
       "      <td>4</td>\n",
       "      <td>P517184.4.2</td>\n",
       "      <td>o 2</td>\n",
       "    </tr>\n",
       "    <tr>\n",
       "      <th>579208</th>\n",
       "      <td>sila[lamb]N</td>\n",
       "      <td>P517184</td>\n",
       "      <td>6</td>\n",
       "      <td>P517184.6.2</td>\n",
       "      <td>o 4</td>\n",
       "    </tr>\n",
       "    <tr>\n",
       "      <th>579217</th>\n",
       "      <td>sila[lamb]N</td>\n",
       "      <td>P517184</td>\n",
       "      <td>9</td>\n",
       "      <td>P517184.9.2</td>\n",
       "      <td>o 7</td>\n",
       "    </tr>\n",
       "    <tr>\n",
       "      <th>579226</th>\n",
       "      <td>niga[fattened]V/i</td>\n",
       "      <td>P517184</td>\n",
       "      <td>12</td>\n",
       "      <td>P517184.12.3</td>\n",
       "      <td>o 10</td>\n",
       "    </tr>\n",
       "    <tr>\n",
       "      <th>579474</th>\n",
       "      <td>ur-{d}ištaran[]PN</td>\n",
       "      <td>P519792</td>\n",
       "      <td>29</td>\n",
       "      <td>P519792.29.1</td>\n",
       "      <td>r 10</td>\n",
       "    </tr>\n",
       "  </tbody>\n",
       "</table>\n",
       "<p>4793 rows × 5 columns</p>\n",
       "</div>"
      ],
      "text/plain": [
       "                    lemma  id_text  id_line       id_word label\n",
       "220             Urum[1]SN  P100217       12  P100217.12.4   r 2\n",
       "260         ensik[ruler]N  P100219        8   P100219.8.1   o 6\n",
       "303            1(diš)[]NU  P100221        4   P100221.4.1   o 2\n",
       "366              ud[sun]N  P100222       16  P100222.16.1   r 6\n",
       "505           sila[lamb]N  P100228        4   P100228.4.2   o 2\n",
       "...                   ...      ...      ...           ...   ...\n",
       "579201        sila[lamb]N  P517184        4   P517184.4.2   o 2\n",
       "579208        sila[lamb]N  P517184        6   P517184.6.2   o 4\n",
       "579217        sila[lamb]N  P517184        9   P517184.9.2   o 7\n",
       "579226  niga[fattened]V/i  P517184       12  P517184.12.3  o 10\n",
       "579474  ur-{d}ištaran[]PN  P519792       29  P519792.29.1  r 10\n",
       "\n",
       "[4793 rows x 5 columns]"
      ]
     },
     "execution_count": 163,
     "metadata": {
      "tags": []
     },
     "output_type": "execute_result"
    }
   ],
   "source": [
    "lookup_backwards_neighbors(Lemma('mu.DU', 'delivery', 'N'), reduced_words_df, 2)"
   ]
  },
  {
   "cell_type": "markdown",
   "id": "28e20ad6",
   "metadata": {
    "id": "YLP1z1u2uYpO"
   },
   "source": [
    "## 4 Exploring all the Texts"
   ]
  },
  {
   "cell_type": "code",
   "execution_count": null,
   "id": "8e0d8b3a",
   "metadata": {
    "id": "TFndqmbvATQL"
   },
   "outputs": [],
   "source": [
    "generic_goat_lemma = Lemma(definition='~?goat', plaintext_alias='maš[goat]N')\n",
    "generic_sheep_lemma = Lemma(definition='~?sheep', plaintext_alias='udu[sheep]N')"
   ]
  },
  {
   "cell_type": "code",
   "execution_count": null,
   "id": "942aaafe",
   "metadata": {
    "id": "z6m3rFZ7ooXr"
   },
   "outputs": [],
   "source": [
    "comm_counts = valid_counts.copy()\n",
    "comm_counts = comm_counts.loc[(comm_counts['lemma'].str.contains(']N$'))]\n",
    "comm_counts = comm_counts.loc[~(comm_counts['lemma'].str.contains('year$'))]"
   ]
  },
  {
   "cell_type": "code",
   "execution_count": null,
   "id": "5e05cf4b",
   "metadata": {
    "colab": {
     "base_uri": "https://localhost:8080/"
    },
    "id": "mCnNsWBtA73u",
    "outputId": "597b9016-9874-48b8-ec13-906cb2c27875"
   },
   "outputs": [
    {
     "name": "stderr",
     "output_type": "stream",
     "text": [
      "/usr/local/lib/python3.7/dist-packages/pandas/core/strings.py:2001: UserWarning: This pattern has match groups. To actually get the groups, use str.extract.\n",
      "  return func(self, *args, **kwargs)\n",
      "/usr/local/lib/python3.7/dist-packages/ipykernel_launcher.py:18: SettingWithCopyWarning: \n",
      "A value is trying to be set on a copy of a slice from a DataFrame\n",
      "\n",
      "See the caveats in the documentation: https://pandas.pydata.org/pandas-docs/stable/user_guide/indexing.html#returning-a-view-versus-a-copy\n"
     ]
    }
   ],
   "source": [
    "sheep_n_goats = generic_goat_lemma.merge_matches(comm_counts)\n",
    "sheep_n_goats = generic_sheep_lemma.merge_matches(sheep_n_goats)"
   ]
  },
  {
   "cell_type": "code",
   "execution_count": null,
   "id": "9f7d2e3e",
   "metadata": {
    "id": "42XSrHGgrXss"
   },
   "outputs": [],
   "source": [
    "commodities_by_year = valid_counts[['lemma', 'min_year', 'comm_count']].groupby(by=['lemma', 'min_year']).sum()"
   ]
  },
  {
   "cell_type": "code",
   "execution_count": null,
   "id": "7ebbcaac",
   "metadata": {
    "id": "HzySzgVYBr81"
   },
   "outputs": [],
   "source": [
    "sheep_n_goats_by_year = sheep_n_goats[['lemma', 'min_year', 'comm_count']].groupby(by=['lemma', 'min_year']).sum()"
   ]
  },
  {
   "cell_type": "code",
   "execution_count": null,
   "id": "f8e57c9a",
   "metadata": {
    "colab": {
     "base_uri": "https://localhost:8080/"
    },
    "id": "fRNLAXRZr33W",
    "outputId": "53ff5e1e-1aec-4ae0-e3f5-29355019b4bb"
   },
   "outputs": [
    {
     "data": {
      "text/html": [
       "<div>\n",
       "<style scoped>\n",
       "    .dataframe tbody tr th:only-of-type {\n",
       "        vertical-align: middle;\n",
       "    }\n",
       "\n",
       "    .dataframe tbody tr th {\n",
       "        vertical-align: top;\n",
       "    }\n",
       "\n",
       "    .dataframe thead th {\n",
       "        text-align: right;\n",
       "    }\n",
       "</style>\n",
       "<table border=\"1\" class=\"dataframe\">\n",
       "  <thead>\n",
       "    <tr style=\"text-align: right;\">\n",
       "      <th></th>\n",
       "      <th></th>\n",
       "      <th>comm_count</th>\n",
       "    </tr>\n",
       "    <tr>\n",
       "      <th>lemma</th>\n",
       "      <th>min_year</th>\n",
       "      <th></th>\n",
       "    </tr>\n",
       "  </thead>\n",
       "  <tbody>\n",
       "    <tr>\n",
       "      <th rowspan=\"2\" valign=\"top\">udu[sheep]N</th>\n",
       "      <th>71.0</th>\n",
       "      <td>91183.000000</td>\n",
       "    </tr>\n",
       "    <tr>\n",
       "      <th>70.0</th>\n",
       "      <td>87813.000000</td>\n",
       "    </tr>\n",
       "    <tr>\n",
       "      <th>x[NA]NA</th>\n",
       "      <th>70.0</th>\n",
       "      <td>85703.000000</td>\n",
       "    </tr>\n",
       "    <tr>\n",
       "      <th>gun[load]N</th>\n",
       "      <th>85.0</th>\n",
       "      <td>82026.000000</td>\n",
       "    </tr>\n",
       "    <tr>\n",
       "      <th>itud[moon]N</th>\n",
       "      <th>83.0</th>\n",
       "      <td>55220.000000</td>\n",
       "    </tr>\n",
       "    <tr>\n",
       "      <th>...</th>\n",
       "      <th>...</th>\n",
       "      <td>...</td>\n",
       "    </tr>\n",
       "    <tr>\n",
       "      <th>ma-na[]PN</th>\n",
       "      <th>63.0</th>\n",
       "      <td>0.500000</td>\n",
       "    </tr>\n",
       "    <tr>\n",
       "      <th>a-geš-IGI-ri[]PN</th>\n",
       "      <th>83.0</th>\n",
       "      <td>0.500000</td>\n",
       "    </tr>\n",
       "    <tr>\n",
       "      <th>niŋlalarum[dessert]N</th>\n",
       "      <th>84.0</th>\n",
       "      <td>0.500000</td>\n",
       "    </tr>\n",
       "    <tr>\n",
       "      <th>išah[lard]N</th>\n",
       "      <th>70.0</th>\n",
       "      <td>0.500000</td>\n",
       "    </tr>\n",
       "    <tr>\n",
       "      <th>šu-{d}iškur[]PN</th>\n",
       "      <th>58.0</th>\n",
       "      <td>0.333333</td>\n",
       "    </tr>\n",
       "  </tbody>\n",
       "</table>\n",
       "<p>2688 rows × 1 columns</p>\n",
       "</div>"
      ],
      "text/plain": [
       "                                 comm_count\n",
       "lemma                min_year              \n",
       "udu[sheep]N          71.0      91183.000000\n",
       "                     70.0      87813.000000\n",
       "x[NA]NA              70.0      85703.000000\n",
       "gun[load]N           85.0      82026.000000\n",
       "itud[moon]N          83.0      55220.000000\n",
       "...                                     ...\n",
       "ma-na[]PN            63.0          0.500000\n",
       "a-geš-IGI-ri[]PN     83.0          0.500000\n",
       "niŋlalarum[dessert]N 84.0          0.500000\n",
       "išah[lard]N          70.0          0.500000\n",
       "šu-{d}iškur[]PN      58.0          0.333333\n",
       "\n",
       "[2688 rows x 1 columns]"
      ]
     },
     "execution_count": 169,
     "metadata": {
      "tags": []
     },
     "output_type": "execute_result"
    }
   ],
   "source": [
    "commodities_by_year.sort_values(by = 'comm_count', ascending=False)"
   ]
  },
  {
   "cell_type": "code",
   "execution_count": null,
   "id": "73dd120e",
   "metadata": {
    "id": "H6YoOxl_xRu4"
   },
   "outputs": [],
   "source": [
    "tablets_by_time = words_df[(words_df['questionable'] == False) & (words_df['metadata_source_x'] == 'BDTNS') & (words_df['multiple_dates'] == False)][['min_year', 'id_text']].groupby(by = 'min_year').nunique()"
   ]
  },
  {
   "cell_type": "code",
   "execution_count": null,
   "id": "ae7c9473",
   "metadata": {
    "id": "swdB47iL0wsZ"
   },
   "outputs": [],
   "source": [
    "words_by_time = words_df[(words_df['questionable'] == False) & (words_df['metadata_source_x'] == 'BDTNS') & (words_df['multiple_dates'] == False)][['min_year', 'id_text']].groupby(by = 'min_year').count()"
   ]
  },
  {
   "cell_type": "code",
   "execution_count": null,
   "id": "64c9136b",
   "metadata": {
    "colab": {
     "base_uri": "https://localhost:8080/"
    },
    "id": "K6Zlx3WKsa6o",
    "outputId": "a69f0d3f-101b-4ae8-a2ef-9b7a5206af69"
   },
   "outputs": [
    {
     "data": {
      "text/plain": [
       "[<matplotlib.lines.Line2D at 0x7f3698f827d0>]"
      ]
     },
     "execution_count": 172,
     "metadata": {
      "tags": []
     },
     "output_type": "execute_result"
    },
    {
     "data": {
      "image/png": "[encoded data removed]",
      "text/plain": [
       "<Figure size 432x288 with 1 Axes>"
      ]
     },
     "metadata": {
      "needs_background": "light",
      "tags": []
     },
     "output_type": "display_data"
    }
   ],
   "source": [
    "import matplotlib.pyplot as plt\n",
    "plt.plot((commodities_by_year.loc['udu[sheep]N']['comm_count']/tablets_by_time['id_text']).index, commodities_by_year.loc['udu[sheep]N']['comm_count']/tablets_by_time['id_text'])\n",
    "plt.plot((commodities_by_year.loc['maš[goat]N']['comm_count']/tablets_by_time['id_text']).index, commodities_by_year.loc['maš[goat]N']['comm_count']/tablets_by_time['id_text'])\n",
    "#plt.plot(commodities_by_year.loc['maš[goat]N'].index,  commodities_by_year.loc['maš[goat]N']['comm_count']/tablets_by_time['id_text'])\n",
    "plt.plot(tablets_by_time.index, tablets_by_time/10)"
   ]
  },
  {
   "cell_type": "code",
   "execution_count": null,
   "id": "83f59e9d",
   "metadata": {
    "colab": {
     "base_uri": "https://localhost:8080/"
    },
    "id": "EEQji80gBoaA",
    "outputId": "1222cfd1-2fc7-4685-ff14-cde6017d33ad"
   },
   "outputs": [
    {
     "data": {
      "text/plain": [
       "[<matplotlib.lines.Line2D at 0x7f3698f631d0>]"
      ]
     },
     "execution_count": 173,
     "metadata": {
      "tags": []
     },
     "output_type": "execute_result"
    },
    {
     "data": {
      "image/png": "[encoded data removed]",
      "text/plain": [
       "<Figure size 432x288 with 1 Axes>"
      ]
     },
     "metadata": {
      "needs_background": "light",
      "tags": []
     },
     "output_type": "display_data"
    }
   ],
   "source": [
    "plt.plot((sheep_n_goats_by_year.loc['udu[sheep]N']['comm_count']/tablets_by_time['id_text']).index, sheep_n_goats_by_year.loc['udu[sheep]N']['comm_count']/tablets_by_time['id_text'])\n",
    "plt.plot((sheep_n_goats_by_year.loc['maš[goat]N']['comm_count']/tablets_by_time['id_text']).index, sheep_n_goats_by_year.loc['maš[goat]N']['comm_count']/tablets_by_time['id_text'])\n",
    "plt.plot(tablets_by_time.index, tablets_by_time/10)"
   ]
  },
  {
   "cell_type": "code",
   "execution_count": null,
   "id": "b56f134d",
   "metadata": {
    "colab": {
     "base_uri": "https://localhost:8080/"
    },
    "id": "MOykztJh6k33",
    "outputId": "84b2aa87-f4c0-449e-e044-3f3ca1dfc093"
   },
   "outputs": [
    {
     "data": {
      "text/plain": [
       "[<matplotlib.lines.Line2D at 0x7f3698f3d950>]"
      ]
     },
     "execution_count": 174,
     "metadata": {
      "tags": []
     },
     "output_type": "execute_result"
    },
    {
     "data": {
      "image/png": "[encoded data removed]",
      "text/plain": [
       "<Figure size 432x288 with 1 Axes>"
      ]
     },
     "metadata": {
      "needs_background": "light",
      "tags": []
     },
     "output_type": "display_data"
    }
   ],
   "source": [
    "plt.plot((commodities_by_year.loc['udu[sheep]N']['comm_count']/words_by_time['id_text']).index, commodities_by_year.loc['udu[sheep]N']['comm_count']/words_by_time['id_text'])\n"
   ]
  },
  {
   "cell_type": "code",
   "execution_count": null,
   "id": "c704070d",
   "metadata": {
    "id": "SiRl9nhF1tM_"
   },
   "outputs": [],
   "source": [
    "relative_spike = (commodities_by_year.loc['udu[sheep]N']['comm_count']/words_by_time['id_text']).dropna()"
   ]
  },
  {
   "cell_type": "code",
   "execution_count": null,
   "id": "0b13d038",
   "metadata": {
    "colab": {
     "base_uri": "https://localhost:8080/"
    },
    "id": "vACwBELl2DFW",
    "outputId": "472b4231-f60c-4559-bf84-b9f5ce6ade0a"
   },
   "outputs": [
    {
     "data": {
      "text/plain": [
       "min_year\n",
       "79.0    3.415813\n",
       "70.0    2.996315\n",
       "71.0    2.518033\n",
       "47.0    2.232092\n",
       "60.0    2.089681\n",
       "68.0    2.009363\n",
       "81.0    1.976220\n",
       "74.0    1.852672\n",
       "75.0    1.787211\n",
       "66.0    1.785718\n",
       "73.0    1.743820\n",
       "72.0    1.717206\n",
       "82.0    1.666760\n",
       "83.0    1.517521\n",
       "84.0    1.450986\n",
       "78.0    1.407816\n",
       "65.0    1.250905\n",
       "80.0    1.245296\n",
       "77.0    1.225937\n",
       "58.0    1.174519\n",
       "63.0    1.074880\n",
       "86.0    1.038360\n",
       "64.0    0.981723\n",
       "51.0    0.713147\n",
       "85.0    0.710645\n",
       "61.0    0.697853\n",
       "76.0    0.678775\n",
       "69.0    0.648679\n",
       "59.0    0.575142\n",
       "48.0    0.554688\n",
       "67.0    0.550728\n",
       "62.0    0.488782\n",
       "52.0    0.238155\n",
       "57.0    0.235935\n",
       "53.0    0.151741\n",
       "49.0    0.151239\n",
       "54.0    0.118158\n",
       "87.0    0.113158\n",
       "50.0    0.057937\n",
       "55.0    0.050339\n",
       "56.0    0.037833\n",
       "dtype: float64"
      ]
     },
     "execution_count": 176,
     "metadata": {
      "tags": []
     },
     "output_type": "execute_result"
    }
   ],
   "source": [
    "relative_spike.sort_values(ascending=False)"
   ]
  },
  {
   "cell_type": "code",
   "execution_count": null,
   "id": "2fc62bcb",
   "metadata": {
    "colab": {
     "base_uri": "https://localhost:8080/"
    },
    "id": "f71u3vCKvnly",
    "outputId": "92974cd3-195f-4b67-da3e-58078bf8d813"
   },
   "outputs": [
    {
     "data": {
      "text/plain": [
       "(30.0, 90.0)"
      ]
     },
     "execution_count": 177,
     "metadata": {
      "tags": []
     },
     "output_type": "execute_result"
    },
    {
     "data": {
      "image/png": "[encoded data removed]",
      "text/plain": [
       "<Figure size 432x288 with 1 Axes>"
      ]
     },
     "metadata": {
      "needs_background": "light",
      "tags": []
     },
     "output_type": "display_data"
    }
   ],
   "source": [
    "plt.plot(commodities_by_year.loc['u[ewe]N'].index, commodities_by_year.loc['u[ewe]N'])\n",
    "\n",
    "plt.xlim(30, 90)"
   ]
  },
  {
   "cell_type": "markdown",
   "id": "0abd83d3",
   "metadata": {
    "id": "rteLd7v6IzlX"
   },
   "source": [
    "## 5 Exploring Expenditure Texts"
   ]
  },
  {
   "cell_type": "code",
   "execution_count": null,
   "id": "2b2dd5b8",
   "metadata": {
    "id": "tV8JpgZTJLDc"
   },
   "outputs": [],
   "source": [
    "delivery_by_year = valid_counts.loc[valid_counts['delivery'], ['lemma', 'min_year', 'comm_count']].groupby(by=['lemma', 'min_year']).sum()\n",
    "expenditure_by_year = valid_counts.loc[valid_counts['expenditure'], ['lemma', 'min_year', 'comm_count']].groupby(by=['lemma', 'min_year']).sum()\n",
    "both_by_year =  valid_counts.loc[valid_counts['delivery_or_expenditure'] , ['lemma', 'min_year', 'comm_count']].groupby(by=['lemma', 'min_year']).sum()"
   ]
  },
  {
   "cell_type": "markdown",
   "id": "11737659",
   "metadata": {
    "id": "-KMYum1W04bG"
   },
   "source": [
    "A comparison of udu and mash (per tablet) over time in expenditure texts."
   ]
  },
  {
   "cell_type": "code",
   "execution_count": null,
   "id": "8a603ece",
   "metadata": {
    "colab": {
     "base_uri": "https://localhost:8080/"
    },
    "id": "VjI1xSyQNH7y",
    "outputId": "71783375-c9f1-4994-8645-4a4b1693c754"
   },
   "outputs": [
    {
     "data": {
      "text/plain": [
       "min_year\n",
       "58.0    120.0\n",
       "61.0     60.0\n",
       "65.0    140.0\n",
       "75.0    250.0\n",
       "Name: comm_count, dtype: float64"
      ]
     },
     "execution_count": 179,
     "metadata": {
      "tags": []
     },
     "output_type": "execute_result"
    }
   ],
   "source": [
    "expenditure_by_year.loc['ninda[bread]N']['comm_count']"
   ]
  },
  {
   "cell_type": "code",
   "execution_count": null,
   "id": "5d8328f4",
   "metadata": {
    "colab": {
     "base_uri": "https://localhost:8080/",
     "height": 282
    },
    "id": "6nPn5MjuJY0x",
    "outputId": "38231c1d-832e-4d78-c54d-e795829cc1bf"
   },
   "outputs": [
    {
     "data": {
      "text/plain": [
       "[<matplotlib.lines.Line2D at 0x7f3698e1a650>]"
      ]
     },
     "execution_count": 180,
     "metadata": {
      "tags": []
     },
     "output_type": "execute_result"
    },
    {
     "data": {
      "image/png": "[encoded data removed]",
      "text/plain": [
       "<Figure size 432x288 with 1 Axes>"
      ]
     },
     "metadata": {
      "needs_background": "light",
      "tags": []
     },
     "output_type": "display_data"
    }
   ],
   "source": [
    "plt.plot((expenditure_by_year.loc['udu[sheep]N']['comm_count']/tablets_by_time['id_text']).index, expenditure_by_year.loc['udu[sheep]N']['comm_count']/tablets_by_time['id_text'])\n",
    "plt.plot((expenditure_by_year.loc['maš[goat]N']['comm_count']/tablets_by_time['id_text']).index, expenditure_by_year.loc['maš[goat]N']['comm_count']/tablets_by_time['id_text'])\n",
    "#plt.plot((expenditure_by_year.loc['gun[load]N']['comm_count']/tablets_by_time['id_text']).index, expenditure_by_year.loc['gun[load]N']['comm_count']/tablets_by_time['id_text'])\n",
    "plt.plot((expenditure_by_year.loc['gud[ox]N']['comm_count']/tablets_by_time['id_text']).index, expenditure_by_year.loc['gud[ox]N']['comm_count']/tablets_by_time['id_text'])\n",
    "plt.plot((expenditure_by_year.loc['ninda[bread]N']['comm_count']/tablets_by_time['id_text']).index, expenditure_by_year.loc['ninda[bread]N']['comm_count']/tablets_by_time['id_text'])\n",
    "\n",
    "\n",
    "#plt.plot(commodities_by_year.loc['maš[goat]N'].index,  commodities_by_year.loc['maš[goat]N']['comm_count']/tablets_by_time['id_text'])\n",
    "#plt.plot(tablets_by_time.index, tablets_by_time/10)"
   ]
  },
  {
   "cell_type": "markdown",
   "id": "17784bd1",
   "metadata": {
    "id": "ySjzuNI21E2o"
   },
   "source": [
    "A comparison of udu in expediture and delivery texts."
   ]
  },
  {
   "cell_type": "code",
   "execution_count": null,
   "id": "5acf4a1a",
   "metadata": {
    "colab": {
     "base_uri": "https://localhost:8080/",
     "height": 282
    },
    "id": "dwfhEMYfbi3I",
    "outputId": "ef7b193c-eee4-45da-9ae8-14ca3be68ff1"
   },
   "outputs": [
    {
     "data": {
      "text/plain": [
       "[<matplotlib.lines.Line2D at 0x7f3698d892d0>]"
      ]
     },
     "execution_count": 181,
     "metadata": {
      "tags": []
     },
     "output_type": "execute_result"
    },
    {
     "data": {
      "image/png": "[encoded data removed]",
      "text/plain": [
       "<Figure size 432x288 with 1 Axes>"
      ]
     },
     "metadata": {
      "needs_background": "light",
      "tags": []
     },
     "output_type": "display_data"
    }
   ],
   "source": [
    "plt.plot((expenditure_by_year.loc['udu[sheep]N']['comm_count']/tablets_by_time['id_text']).index, expenditure_by_year.loc['udu[sheep]N']['comm_count']/tablets_by_time['id_text'])\n",
    "plt.plot((delivery_by_year.loc['udu[sheep]N']['comm_count']/tablets_by_time['id_text']).index, delivery_by_year.loc['udu[sheep]N']['comm_count']/tablets_by_time['id_text'])\n"
   ]
  },
  {
   "cell_type": "markdown",
   "id": "24a5e77d",
   "metadata": {
    "id": "PoGKlISM1Ldh"
   },
   "source": [
    "A raw comparison of udu and mash in expenditure texts (not adjusted for number of tablets)."
   ]
  },
  {
   "cell_type": "code",
   "execution_count": null,
   "id": "21e0900d",
   "metadata": {
    "colab": {
     "base_uri": "https://localhost:8080/",
     "height": 282
    },
    "id": "7wkatB50K96U",
    "outputId": "3e8ce392-8f78-4d9a-c136-fa4a296195b0"
   },
   "outputs": [
    {
     "data": {
      "text/plain": [
       "[<matplotlib.lines.Line2D at 0x7f369a23a250>]"
      ]
     },
     "execution_count": 182,
     "metadata": {
      "tags": []
     },
     "output_type": "execute_result"
    },
    {
     "data": {
      "image/png": "[encoded data removed]",
      "text/plain": [
       "<Figure size 432x288 with 1 Axes>"
      ]
     },
     "metadata": {
      "needs_background": "light",
      "tags": []
     },
     "output_type": "display_data"
    }
   ],
   "source": [
    "plt.plot((expenditure_by_year.loc['udu[sheep]N']['comm_count']).index, expenditure_by_year.loc['udu[sheep]N']['comm_count'])\n",
    "plt.plot((expenditure_by_year.loc['maš[goat]N']['comm_count']).index, expenditure_by_year.loc['maš[goat]N']['comm_count'])\n"
   ]
  },
  {
   "cell_type": "markdown",
   "id": "ec129ed4",
   "metadata": {
    "id": "oyFtjXic1ebE"
   },
   "source": [
    "A comparison of udu and mash in delivery (also adjusted)."
   ]
  },
  {
   "cell_type": "code",
   "execution_count": null,
   "id": "92e5ecc4",
   "metadata": {
    "colab": {
     "base_uri": "https://localhost:8080/",
     "height": 282
    },
    "id": "zOuFlJIKJgif",
    "outputId": "73d93008-b68f-42b6-d7bc-44e94581c766"
   },
   "outputs": [
    {
     "data": {
      "text/plain": [
       "[<matplotlib.lines.Line2D at 0x7f3699b63690>]"
      ]
     },
     "execution_count": 183,
     "metadata": {
      "tags": []
     },
     "output_type": "execute_result"
    },
    {
     "data": {
      "image/png": "[encoded data removed]",
      "text/plain": [
       "<Figure size 432x288 with 1 Axes>"
      ]
     },
     "metadata": {
      "needs_background": "light",
      "tags": []
     },
     "output_type": "display_data"
    }
   ],
   "source": [
    "plt.plot((delivery_by_year.loc['udu[sheep]N']['comm_count']/tablets_by_time['id_text']).index, delivery_by_year.loc['udu[sheep]N']['comm_count']/tablets_by_time['id_text'])\n",
    "plt.plot((delivery_by_year.loc['maš[goat]N']['comm_count']/tablets_by_time['id_text']).index, delivery_by_year.loc['maš[goat]N']['comm_count']/tablets_by_time['id_text'])"
   ]
  }
 ],
 "metadata": {
  "kernelspec": {
   "display_name": "Python 3",
   "language": "python",
   "name": "python3"
  },
  "language_info": {
   "codemirror_mode": {
    "name": "ipython",
    "version": 3
   },
   "file_extension": ".py",
   "mimetype": "text/x-python",
   "name": "python",
   "nbconvert_exporter": "python",
   "pygments_lexer": "ipython3",
   "version": "3.7.7"
  }
 },
 "nbformat": 4,
 "nbformat_minor": 5
}
